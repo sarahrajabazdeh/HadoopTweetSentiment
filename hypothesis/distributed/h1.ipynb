{
 "cells": [
  {
   "cell_type": "code",
   "execution_count": 1,
   "metadata": {},
   "outputs": [],
   "source": [
    "import sys\n",
    "import matplotlib.pyplot as plt"
   ]
  },
  {
   "cell_type": "code",
   "execution_count": 2,
   "metadata": {},
   "outputs": [],
   "source": [
    "# fetch from local path otherwise fetch from the remote path (if remote kernel is being used)\n",
    "try: \n",
    "    sys.path.append('../../scripts')\n",
    "    import utils\n",
    "    import spark\n",
    "except:\n",
    "    try:\n",
    "        sys.path.append('./scripts')\n",
    "        import utils\n",
    "        import spark\n",
    "    except:\n",
    "        raise RuntimeError('Failed to import from both local and remote paths. Program terminated.')"
   ]
  },
  {
   "cell_type": "markdown",
   "metadata": {},
   "source": [
    "# First Hypothesis\n",
    "In the following notebook it will be analyzed the following hypothesis:\n",
    " - **Does the length of the tweets, have an impact on the positivity or negativity of the review?**"
   ]
  },
  {
   "cell_type": "code",
   "execution_count": 3,
   "metadata": {},
   "outputs": [],
   "source": [
    "spark = spark.setup_spark_session(app_name='Hypothesis 1')"
   ]
  },
  {
   "cell_type": "code",
   "execution_count": 4,
   "metadata": {},
   "outputs": [],
   "source": [
    "from pyspark.sql.types import StructType, StructField, StringType, IntegerType\n",
    "import pyspark.sql.functions as F\n",
    "# Define the schema\n",
    "schema = StructType([\n",
    "    StructField('target', IntegerType(), True),\n",
    "    StructField('text', StringType(), True),\n",
    "])"
   ]
  },
  {
   "cell_type": "code",
   "execution_count": 5,
   "metadata": {},
   "outputs": [],
   "source": [
    "df = spark.read.csv(\"hdfs://localhost:54310/user/datascience/data/processed/final_tweets_preprocessed\", header=False, schema=schema, sep=\"\\t\")"
   ]
  },
  {
   "cell_type": "code",
   "execution_count": 6,
   "metadata": {},
   "outputs": [
    {
     "name": "stderr",
     "output_type": "stream",
     "text": [
      "/home/datascience/anaconda3/lib/python3.7/site-packages/pandas/compat/_optional.py:138: UserWarning: Pandas requires version '2.7.0' or newer of 'numexpr' (version '2.6.9' currently installed).\n",
      "  warnings.warn(msg, UserWarning)\n"
     ]
    },
    {
     "data": {
      "text/html": [
       "<div>\n",
       "<style scoped>\n",
       "    .dataframe tbody tr th:only-of-type {\n",
       "        vertical-align: middle;\n",
       "    }\n",
       "\n",
       "    .dataframe tbody tr th {\n",
       "        vertical-align: top;\n",
       "    }\n",
       "\n",
       "    .dataframe thead th {\n",
       "        text-align: right;\n",
       "    }\n",
       "</style>\n",
       "<table border=\"1\" class=\"dataframe\">\n",
       "  <thead>\n",
       "    <tr style=\"text-align: right;\">\n",
       "      <th></th>\n",
       "      <th>target</th>\n",
       "      <th>text</th>\n",
       "    </tr>\n",
       "  </thead>\n",
       "  <tbody>\n",
       "    <tr>\n",
       "      <th>0</th>\n",
       "      <td>0</td>\n",
       "      <td>awww that bummer shoulda got david carr third day</td>\n",
       "    </tr>\n",
       "    <tr>\n",
       "      <th>1</th>\n",
       "      <td>0</td>\n",
       "      <td>upset cant updat facebook text might cri resul...</td>\n",
       "    </tr>\n",
       "    <tr>\n",
       "      <th>2</th>\n",
       "      <td>0</td>\n",
       "      <td>dive mani time ball manag save rest go bound</td>\n",
       "    </tr>\n",
       "    <tr>\n",
       "      <th>3</th>\n",
       "      <td>0</td>\n",
       "      <td>whole bodi feel itchi like fire</td>\n",
       "    </tr>\n",
       "    <tr>\n",
       "      <th>4</th>\n",
       "      <td>0</td>\n",
       "      <td>behav im mad cant see</td>\n",
       "    </tr>\n",
       "  </tbody>\n",
       "</table>\n",
       "</div>"
      ],
      "text/plain": [
       "   target                                               text\n",
       "0       0  awww that bummer shoulda got david carr third day\n",
       "1       0  upset cant updat facebook text might cri resul...\n",
       "2       0       dive mani time ball manag save rest go bound\n",
       "3       0                    whole bodi feel itchi like fire\n",
       "4       0                              behav im mad cant see"
      ]
     },
     "execution_count": 6,
     "metadata": {},
     "output_type": "execute_result"
    }
   ],
   "source": [
    "df.limit(5).toPandas()"
   ]
  },
  {
   "cell_type": "markdown",
   "metadata": {},
   "source": [
    "### Metrics (length)\n",
    "For performing this analysis, we obtain the length of each tweet and  include it as an additional column in the dataframe."
   ]
  },
  {
   "cell_type": "code",
   "execution_count": 7,
   "metadata": {},
   "outputs": [],
   "source": [
    "df = df.withColumn('length', F.length('text'))"
   ]
  },
  {
   "cell_type": "code",
   "execution_count": 8,
   "metadata": {},
   "outputs": [
    {
     "data": {
      "text/html": [
       "<div>\n",
       "<style scoped>\n",
       "    .dataframe tbody tr th:only-of-type {\n",
       "        vertical-align: middle;\n",
       "    }\n",
       "\n",
       "    .dataframe tbody tr th {\n",
       "        vertical-align: top;\n",
       "    }\n",
       "\n",
       "    .dataframe thead th {\n",
       "        text-align: right;\n",
       "    }\n",
       "</style>\n",
       "<table border=\"1\" class=\"dataframe\">\n",
       "  <thead>\n",
       "    <tr style=\"text-align: right;\">\n",
       "      <th></th>\n",
       "      <th>target</th>\n",
       "      <th>text</th>\n",
       "      <th>length</th>\n",
       "    </tr>\n",
       "  </thead>\n",
       "  <tbody>\n",
       "    <tr>\n",
       "      <th>0</th>\n",
       "      <td>0</td>\n",
       "      <td>awww that bummer shoulda got david carr third day</td>\n",
       "      <td>49</td>\n",
       "    </tr>\n",
       "    <tr>\n",
       "      <th>1</th>\n",
       "      <td>0</td>\n",
       "      <td>upset cant updat facebook text might cri resul...</td>\n",
       "      <td>70</td>\n",
       "    </tr>\n",
       "    <tr>\n",
       "      <th>2</th>\n",
       "      <td>0</td>\n",
       "      <td>dive mani time ball manag save rest go bound</td>\n",
       "      <td>44</td>\n",
       "    </tr>\n",
       "    <tr>\n",
       "      <th>3</th>\n",
       "      <td>0</td>\n",
       "      <td>whole bodi feel itchi like fire</td>\n",
       "      <td>31</td>\n",
       "    </tr>\n",
       "    <tr>\n",
       "      <th>4</th>\n",
       "      <td>0</td>\n",
       "      <td>behav im mad cant see</td>\n",
       "      <td>21</td>\n",
       "    </tr>\n",
       "  </tbody>\n",
       "</table>\n",
       "</div>"
      ],
      "text/plain": [
       "   target                                               text  length\n",
       "0       0  awww that bummer shoulda got david carr third day      49\n",
       "1       0  upset cant updat facebook text might cri resul...      70\n",
       "2       0       dive mani time ball manag save rest go bound      44\n",
       "3       0                    whole bodi feel itchi like fire      31\n",
       "4       0                              behav im mad cant see      21"
      ]
     },
     "execution_count": 8,
     "metadata": {},
     "output_type": "execute_result"
    }
   ],
   "source": [
    "df.limit(5).toPandas()"
   ]
  },
  {
   "cell_type": "code",
   "execution_count": 9,
   "metadata": {},
   "outputs": [
    {
     "name": "stdout",
     "output_type": "stream",
     "text": [
      "+-------+------------------+------------------+\n",
      "|summary|            target|            length|\n",
      "+-------+------------------+------------------+\n",
      "|  count|           1591422|           1591422|\n",
      "|   mean|0.4999937163115754|39.281248468350945|\n",
      "| stddev|0.5000001570527857|22.045368669610248|\n",
      "|    min|                 0|                 1|\n",
      "|    25%|                 0|                21|\n",
      "|    50%|                 0|                36|\n",
      "|    75%|                 1|                55|\n",
      "|    max|                 1|               165|\n",
      "+-------+------------------+------------------+\n",
      "\n"
     ]
    }
   ],
   "source": [
    "df.select('target', 'length').summary().show()"
   ]
  },
  {
   "cell_type": "markdown",
   "metadata": {},
   "source": [
    "# Correlation Test\n",
    "We are using Pearson's correlation coefficient test to find out whether we have positive correlation or negative correlation with the length of the tweet."
   ]
  },
  {
   "cell_type": "code",
   "execution_count": 10,
   "metadata": {},
   "outputs": [],
   "source": [
    "# Piersen correlation\n",
    "coefficient = df.stat.corr('target', 'length', method='pearson')"
   ]
  },
  {
   "cell_type": "markdown",
   "metadata": {},
   "source": [
    "# Interpretation of the Resuts\n",
    "Since the value of the coefficient is close to zero it means that it has a very weak correlation."
   ]
  },
  {
   "cell_type": "code",
   "execution_count": 11,
   "metadata": {},
   "outputs": [
    {
     "name": "stdout",
     "output_type": "stream",
     "text": [
      "Pearson correlation coefficient: -0.0388\n"
     ]
    }
   ],
   "source": [
    "print(f'Pearson correlation coefficient: {coefficient:.4f}')"
   ]
  },
  {
   "cell_type": "markdown",
   "metadata": {},
   "source": [
    "# Effect Size\n",
    "To invalidate the significance fallacy, we used Cohen's d test to see the effect size for the two groups."
   ]
  },
  {
   "cell_type": "code",
   "execution_count": 12,
   "metadata": {},
   "outputs": [
    {
     "name": "stdout",
     "output_type": "stream",
     "text": [
      "Cohen's d: 0.0776\n"
     ]
    }
   ],
   "source": [
    "group1 = df.filter(df['target'] == 0)\n",
    "group2 = df.filter(df['target'] == 1)\n",
    "cohen_d = utils.cohen_d_spark(group1, group2, 'length', 'length')\n",
    "print(f'Cohen\\'s d: {cohen_d:.4f}') "
   ]
  },
  {
   "cell_type": "markdown",
   "metadata": {},
   "source": [
    "# Interpretation of Cohen's d:\n",
    " - Cohen's d values around 0.2 are considered small effect sizes.\n",
    " - Values around 0.5 represent medium effect sizes.\n",
    " - Values of 0.8 or higher indicate large effect sizes.\n",
    "\n",
    "The effect size obtained is close to zero, which suggests extremely small effect size. Therefore, there is very little difference between the means of the two groups relative to the variablity within the groups. We can infer that the difference between the two groups is only statistically significant, not practically significant."
   ]
  },
  {
   "cell_type": "markdown",
   "metadata": {},
   "source": [
    "## Visualization of the Tweet Length Distribution by sentiment"
   ]
  },
  {
   "cell_type": "code",
   "execution_count": 13,
   "metadata": {},
   "outputs": [
    {
     "data": {
      "image/png": "[encoded data removed]",
      "text/plain": [
       "<Figure size 432x288 with 1 Axes>"
      ]
     },
     "metadata": {
      "needs_background": "light"
     },
     "output_type": "display_data"
    }
   ],
   "source": [
    "# Separate positive and negative tweets\n",
    "positive_tweets = df.filter(df['target'] == 1)\n",
    "negative_tweets = df.filter(df['target'] == 0)\n",
    "\n",
    "# Group positive and negative tweets by their length and count the occurrences\n",
    "positive_tweet_length_counts = positive_tweets.groupBy('length').count().orderBy('length')\n",
    "negative_tweet_length_counts = negative_tweets.groupBy('length').count().orderBy('length')\n",
    "\n",
    "# Extract the lengths and counts of Pyspark dataframes to Python lists\n",
    "positive_lengths = positive_tweet_length_counts.select('length').toPandas()['length'].tolist()\n",
    "positive_counts = positive_tweet_length_counts.select('count').toPandas()['count'].tolist()\n",
    "\n",
    "negative_lengths = negative_tweet_length_counts.select('length').toPandas()['length'].tolist()\n",
    "negative_counts = negative_tweet_length_counts.select('count').toPandas()['count'].tolist()\n",
    "\n",
    "plt.plot(positive_lengths, positive_counts, color='blue', label='Positive Tweets')\n",
    "plt.plot(negative_lengths, negative_counts, color='red', label='Negative Tweets')\n",
    "plt.xlabel('Length of Tweets')\n",
    "plt.ylabel('Number of Tweets')\n",
    "plt.title('Tweet Length Distribution by Sentiment')\n",
    "plt.legend()\n",
    "plt.grid(True)\n",
    "plt.show()"
   ]
  },
  {
   "cell_type": "markdown",
   "metadata": {},
   "source": [
    "In the above graph, we can see that the two lines for the different sentiment are almost identical. There might be a little difference in the shorter length tweets that tends to be positive but overall the two lines overal significantly. Hence, we can conclude that there might be not be a signifant influence of the tweets' length on the sentiment."
   ]
  },
  {
   "cell_type": "code",
   "execution_count": 14,
   "metadata": {},
   "outputs": [],
   "source": [
    "spark.stop()"
   ]
  }
 ],
 "metadata": {
  "kernelspec": {
   "display_name": "Python 3",
   "language": "python",
   "name": "python3"
  },
  "language_info": {
   "codemirror_mode": {
    "name": "ipython",
    "version": 3
   },
   "file_extension": ".py",
   "mimetype": "text/x-python",
   "name": "python",
   "nbconvert_exporter": "python",
   "pygments_lexer": "ipython3",
   "version": "3.7.3"
  }
 },
 "nbformat": 4,
 "nbformat_minor": 2
}
