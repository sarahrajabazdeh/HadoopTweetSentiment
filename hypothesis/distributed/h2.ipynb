{
 "cells": [
  {
   "cell_type": "code",
   "execution_count": 163,
   "metadata": {},
   "outputs": [],
   "source": [
    "import sys\n",
    "import seaborn as sb\n",
    "import matplotlib.pyplot as plt \n",
    "import numpy as np"
   ]
  },
  {
   "cell_type": "code",
   "execution_count": 118,
   "metadata": {},
   "outputs": [],
   "source": [
    "# fetch from local path otherwise fetch from the remote path (if remote kernel is being used)\n",
    "try: \n",
    "    sys.path.append('../../scripts')\n",
    "    import spark\n",
    "except:\n",
    "    try:\n",
    "        sys.path.append('./scripts')\n",
    "        import spark\n",
    "    except:\n",
    "        raise RuntimeError('Failed to import from both local and remote paths. Program terminated.')"
   ]
  },
  {
   "cell_type": "markdown",
   "metadata": {},
   "source": [
    "# Second Hypothesis\n",
    "In the following notebook it will be analyzed the following hypothesis:\n",
    " - **Can tweet sentiment be predicted more accurately using a machine learning model with the bag of words representation compared to random guessing?**"
   ]
  },
  {
   "cell_type": "code",
   "execution_count": 119,
   "metadata": {},
   "outputs": [],
   "source": [
    "spark = spark.setup_spark_session(app_name='Hypothesis 2')"
   ]
  },
  {
   "cell_type": "code",
   "execution_count": 120,
   "metadata": {},
   "outputs": [],
   "source": [
    "from pyspark.sql.types import StructType, StructField, StringType, IntegerType\n",
    "from pyspark.ml.feature import CountVectorizer, Tokenizer\n",
    "from pyspark.ml.classification import LogisticRegression, LinearSVC, NaiveBayes\n",
    "from pyspark.ml.evaluation import MulticlassClassificationEvaluator, BinaryClassificationEvaluator\n",
    "from pyspark.mllib.evaluation import MulticlassMetrics\n",
    "\n",
    "# Define the schema\n",
    "schema = StructType([\n",
    "    StructField('target', IntegerType(), True),\n",
    "    StructField('text', StringType(), True),\n",
    "])"
   ]
  },
  {
   "cell_type": "code",
   "execution_count": 121,
   "metadata": {},
   "outputs": [],
   "source": [
    "df = spark.read.csv(\"hdfs://localhost:54310/user/datascience/data/processed/final_tweets_preprocessed\", header=False, schema=schema, sep=\"\\t\")"
   ]
  },
  {
   "cell_type": "code",
   "execution_count": 122,
   "metadata": {},
   "outputs": [
    {
     "data": {
      "text/html": [
       "<div>\n",
       "<style scoped>\n",
       "    .dataframe tbody tr th:only-of-type {\n",
       "        vertical-align: middle;\n",
       "    }\n",
       "\n",
       "    .dataframe tbody tr th {\n",
       "        vertical-align: top;\n",
       "    }\n",
       "\n",
       "    .dataframe thead th {\n",
       "        text-align: right;\n",
       "    }\n",
       "</style>\n",
       "<table border=\"1\" class=\"dataframe\">\n",
       "  <thead>\n",
       "    <tr style=\"text-align: right;\">\n",
       "      <th></th>\n",
       "      <th>target</th>\n",
       "      <th>text</th>\n",
       "    </tr>\n",
       "  </thead>\n",
       "  <tbody>\n",
       "    <tr>\n",
       "      <th>0</th>\n",
       "      <td>0</td>\n",
       "      <td>awww that bummer shoulda got david carr third day</td>\n",
       "    </tr>\n",
       "    <tr>\n",
       "      <th>1</th>\n",
       "      <td>0</td>\n",
       "      <td>upset cant updat facebook text might cri resul...</td>\n",
       "    </tr>\n",
       "    <tr>\n",
       "      <th>2</th>\n",
       "      <td>0</td>\n",
       "      <td>dive mani time ball manag save rest go bound</td>\n",
       "    </tr>\n",
       "    <tr>\n",
       "      <th>3</th>\n",
       "      <td>0</td>\n",
       "      <td>whole bodi feel itchi like fire</td>\n",
       "    </tr>\n",
       "    <tr>\n",
       "      <th>4</th>\n",
       "      <td>0</td>\n",
       "      <td>behav im mad cant see</td>\n",
       "    </tr>\n",
       "  </tbody>\n",
       "</table>\n",
       "</div>"
      ],
      "text/plain": [
       "   target                                               text\n",
       "0       0  awww that bummer shoulda got david carr third day\n",
       "1       0  upset cant updat facebook text might cri resul...\n",
       "2       0       dive mani time ball manag save rest go bound\n",
       "3       0                    whole bodi feel itchi like fire\n",
       "4       0                              behav im mad cant see"
      ]
     },
     "execution_count": 122,
     "metadata": {},
     "output_type": "execute_result"
    }
   ],
   "source": [
    "df.limit(5).toPandas()"
   ]
  },
  {
   "cell_type": "markdown",
   "metadata": {},
   "source": [
    "# Bag of Words\n",
    "The following is the bag of words representation for the given sample corpus."
   ]
  },
  {
   "cell_type": "code",
   "execution_count": 123,
   "metadata": {},
   "outputs": [
    {
     "name": "stdout",
     "output_type": "stream",
     "text": [
      "Vocabulary mapping for the sample corpus: \n",
      " ['is', 'document', 'the', 'this', 'first', 'second', 'third', 'one', 'and']\n"
     ]
    },
    {
     "data": {
      "text/html": [
       "<div>\n",
       "<style scoped>\n",
       "    .dataframe tbody tr th:only-of-type {\n",
       "        vertical-align: middle;\n",
       "    }\n",
       "\n",
       "    .dataframe tbody tr th {\n",
       "        vertical-align: top;\n",
       "    }\n",
       "\n",
       "    .dataframe thead th {\n",
       "        text-align: right;\n",
       "    }\n",
       "</style>\n",
       "<table border=\"1\" class=\"dataframe\">\n",
       "  <thead>\n",
       "    <tr style=\"text-align: right;\">\n",
       "      <th></th>\n",
       "      <th>bow</th>\n",
       "    </tr>\n",
       "  </thead>\n",
       "  <tbody>\n",
       "    <tr>\n",
       "      <th>0</th>\n",
       "      <td>(1.0, 1.0, 1.0, 1.0, 1.0, 0.0, 0.0, 0.0, 0.0)</td>\n",
       "    </tr>\n",
       "    <tr>\n",
       "      <th>1</th>\n",
       "      <td>(1.0, 2.0, 1.0, 1.0, 0.0, 1.0, 0.0, 0.0, 0.0)</td>\n",
       "    </tr>\n",
       "    <tr>\n",
       "      <th>2</th>\n",
       "      <td>(1.0, 0.0, 1.0, 1.0, 0.0, 0.0, 1.0, 1.0, 1.0)</td>\n",
       "    </tr>\n",
       "    <tr>\n",
       "      <th>3</th>\n",
       "      <td>(1.0, 1.0, 1.0, 1.0, 1.0, 0.0, 0.0, 0.0, 0.0)</td>\n",
       "    </tr>\n",
       "  </tbody>\n",
       "</table>\n",
       "</div>"
      ],
      "text/plain": [
       "                                             bow\n",
       "0  (1.0, 1.0, 1.0, 1.0, 1.0, 0.0, 0.0, 0.0, 0.0)\n",
       "1  (1.0, 2.0, 1.0, 1.0, 0.0, 1.0, 0.0, 0.0, 0.0)\n",
       "2  (1.0, 0.0, 1.0, 1.0, 0.0, 0.0, 1.0, 1.0, 1.0)\n",
       "3  (1.0, 1.0, 1.0, 1.0, 1.0, 0.0, 0.0, 0.0, 0.0)"
      ]
     },
     "execution_count": 123,
     "metadata": {},
     "output_type": "execute_result"
    }
   ],
   "source": [
    "corpus = [\n",
    "     (0,'This is the first document'),\n",
    "     (1,'This document is the second document'),\n",
    "     (2,'And this is the third one'),\n",
    "     (3,'Is this the first document'),\n",
    "]\n",
    "\n",
    "column = [\"id\", \"text\"]\n",
    "df_corpus = spark.createDataFrame(corpus, column)\n",
    "\n",
    "tokenizer = Tokenizer(inputCol=\"text\", outputCol=\"words\")\n",
    "wordsData = tokenizer.transform(df_corpus)\n",
    "\n",
    "vectorizer = CountVectorizer(inputCol=\"words\", outputCol=\"bow\")\n",
    "model = vectorizer.fit(wordsData)\n",
    "result = model.transform(wordsData)\n",
    "\n",
    "print(f\"Vocabulary mapping for the sample corpus: \\n {model.vocabulary}\")\n",
    "# Print the dense feature arrays\n",
    "result.select(\"bow\").toPandas()"
   ]
  },
  {
   "cell_type": "markdown",
   "metadata": {},
   "source": [
    "Each row in the data frame corresponds to a document in the corpus. The \"bow\" column contains comma-separated values, each representing a word from the vocabulary.The value at each cell represents the frequency of the word in the corresponding document."
   ]
  },
  {
   "cell_type": "code",
   "execution_count": 124,
   "metadata": {},
   "outputs": [
    {
     "name": "stdout",
     "output_type": "stream",
     "text": [
      "Shape of the bag of words: (1591422, 262144)\n",
      "Shape of labels: (1591422,)\n"
     ]
    }
   ],
   "source": [
    "# generate bow for the given dataset\n",
    "tokenizer = Tokenizer(inputCol=\"text\", outputCol=\"words\")\n",
    "wordsData = tokenizer.transform(df)\n",
    "\n",
    "vectorizer = CountVectorizer(inputCol=\"words\", outputCol=\"bow\")\n",
    "model = vectorizer.fit(wordsData)\n",
    "featuresData = model.transform(wordsData)\n",
    "\n",
    "print(f\"Shape of the bag of words: ({featuresData.select('bow').count()}, {len(model.vocabulary)})\")\n",
    "print(f\"Shape of labels: ({featuresData.select('target').count()},)\")"
   ]
  },
  {
   "cell_type": "code",
   "execution_count": 125,
   "metadata": {},
   "outputs": [
    {
     "data": {
      "text/html": [
       "<div>\n",
       "<style scoped>\n",
       "    .dataframe tbody tr th:only-of-type {\n",
       "        vertical-align: middle;\n",
       "    }\n",
       "\n",
       "    .dataframe tbody tr th {\n",
       "        vertical-align: top;\n",
       "    }\n",
       "\n",
       "    .dataframe thead th {\n",
       "        text-align: right;\n",
       "    }\n",
       "</style>\n",
       "<table border=\"1\" class=\"dataframe\">\n",
       "  <thead>\n",
       "    <tr style=\"text-align: right;\">\n",
       "      <th></th>\n",
       "      <th>bow</th>\n",
       "      <th>target</th>\n",
       "    </tr>\n",
       "  </thead>\n",
       "  <tbody>\n",
       "    <tr>\n",
       "      <th>0</th>\n",
       "      <td>(0.0, 0.0, 0.0, 0.0, 0.0, 0.0, 0.0, 0.0, 0.0, ...</td>\n",
       "      <td>0</td>\n",
       "    </tr>\n",
       "    <tr>\n",
       "      <th>1</th>\n",
       "      <td>(0.0, 0.0, 0.0, 0.0, 0.0, 0.0, 0.0, 0.0, 0.0, ...</td>\n",
       "      <td>0</td>\n",
       "    </tr>\n",
       "    <tr>\n",
       "      <th>2</th>\n",
       "      <td>(0.0, 0.0, 0.0, 0.0, 0.0, 0.0, 0.0, 0.0, 0.0, ...</td>\n",
       "      <td>0</td>\n",
       "    </tr>\n",
       "    <tr>\n",
       "      <th>3</th>\n",
       "      <td>(0.0, 0.0, 0.0, 0.0, 0.0, 0.0, 0.0, 0.0, 0.0, ...</td>\n",
       "      <td>0</td>\n",
       "    </tr>\n",
       "    <tr>\n",
       "      <th>4</th>\n",
       "      <td>(0.0, 0.0, 0.0, 0.0, 0.0, 0.0, 0.0, 0.0, 0.0, ...</td>\n",
       "      <td>0</td>\n",
       "    </tr>\n",
       "  </tbody>\n",
       "</table>\n",
       "</div>"
      ],
      "text/plain": [
       "                                                 bow  target\n",
       "0  (0.0, 0.0, 0.0, 0.0, 0.0, 0.0, 0.0, 0.0, 0.0, ...       0\n",
       "1  (0.0, 0.0, 0.0, 0.0, 0.0, 0.0, 0.0, 0.0, 0.0, ...       0\n",
       "2  (0.0, 0.0, 0.0, 0.0, 0.0, 0.0, 0.0, 0.0, 0.0, ...       0\n",
       "3  (0.0, 0.0, 0.0, 0.0, 0.0, 0.0, 0.0, 0.0, 0.0, ...       0\n",
       "4  (0.0, 0.0, 0.0, 0.0, 0.0, 0.0, 0.0, 0.0, 0.0, ...       0"
      ]
     },
     "execution_count": 125,
     "metadata": {},
     "output_type": "execute_result"
    }
   ],
   "source": [
    "# Create training and test split\n",
    "featuresData = featuresData.select(\"bow\", \"target\")\n",
    "train, test = featuresData.randomSplit([0.9, 0.1], seed=1)\n",
    "train.limit(5).toPandas()"
   ]
  },
  {
   "cell_type": "markdown",
   "metadata": {},
   "source": [
    "# Logistic Regression\n",
    "As a base model, we are using logistic regression for the prediction of the tweets.\n",
    "The suitable value that we determined for the `regparam` (regularization parameter) for this problem is 0.1, after testing different combinations."
   ]
  },
  {
   "cell_type": "code",
   "execution_count": 126,
   "metadata": {},
   "outputs": [
    {
     "name": "stdout",
     "output_type": "stream",
     "text": [
      "Train Logisitic Regression accuracy: 82.38\n",
      "Test Logisitic Regression accuracy: 76.98\n"
     ]
    }
   ],
   "source": [
    "# Create an instance of LogisticRegression classifier\n",
    "lr = LogisticRegression(featuresCol='bow', labelCol='target', regParam=0.1)\n",
    "\n",
    "# Fit the model\n",
    "lr_model = lr.fit(train)\n",
    "lr_train_accuracy = lr_model.evaluate(train).accuracy\n",
    "lr_test_accuracy = lr_model.evaluate(test).accuracy\n",
    "\n",
    "print(f\"Train Logisitic Regression accuracy: {(lr_train_accuracy) * 100:.2f}\")\n",
    "print(f\"Test Logisitic Regression accuracy: {(lr_test_accuracy) * 100:.2f}\")"
   ]
  },
  {
   "cell_type": "markdown",
   "metadata": {},
   "source": [
    "Clearly, our base model is predicting the tweets significantly better than the random guessing, which would have produced 50% accuracy."
   ]
  },
  {
   "cell_type": "markdown",
   "metadata": {},
   "source": [
    "# SVM\n",
    "Here we considered more complex model.\n",
    "\n",
    "The suitable value that we determined for the `regparam` (regularization parameter) for this problem is 0.1, after testing different combinations. We also set the max iterations to be 10, in order to make the training faster."
   ]
  },
  {
   "cell_type": "code",
   "execution_count": 127,
   "metadata": {},
   "outputs": [],
   "source": [
    "# Create an instance of SVM classifier\n",
    "svm = LinearSVC(featuresCol='bow', labelCol='target', regParam=0.1, maxIter=10)\n",
    "\n",
    "# Fit the model\n",
    "svm_model = svm.fit(train)"
   ]
  },
  {
   "cell_type": "code",
   "execution_count": 128,
   "metadata": {},
   "outputs": [
    {
     "name": "stdout",
     "output_type": "stream",
     "text": [
      "Train SVM accuracy: 82.40\n",
      "Test SVM accuracy: 77.20\n"
     ]
    }
   ],
   "source": [
    "predictions_test = svm_model.transform(test)\n",
    "predictions_train = svm_model.transform(train)\n",
    "\n",
    "evaluator = MulticlassClassificationEvaluator(labelCol=\"target\", predictionCol=\"prediction\", metricName=\"accuracy\")\n",
    "svm_train_accuracy = evaluator.evaluate(predictions_train)\n",
    "svm_test_accuracy = evaluator.evaluate(predictions_test)\n",
    "\n",
    "print(f\"Train SVM accuracy: {svm_train_accuracy * 100:.2f}\")\n",
    "print(f\"Test SVM accuracy: {svm_test_accuracy * 100:.2f}\")"
   ]
  },
  {
   "cell_type": "markdown",
   "metadata": {},
   "source": [
    "SVM improves the overall accuracy a little bit as compare to Logistic Regression. However, it takes significantly more time in training the model."
   ]
  },
  {
   "cell_type": "markdown",
   "metadata": {},
   "source": [
    "# Mutinomial Naive Bayes\n",
    "For the value of alpha (Laplace smoothing parameter), the suitable value that we determined for this problem is 3, after trying different values."
   ]
  },
  {
   "cell_type": "code",
   "execution_count": 129,
   "metadata": {},
   "outputs": [],
   "source": [
    "# Create an instance of Naive Bayes classifier\n",
    "nb = NaiveBayes(featuresCol='bow', labelCol='target', smoothing=3, modelType='multinomial')\n",
    "\n",
    "# Fit the model\n",
    "nb_model = nb.fit(train)"
   ]
  },
  {
   "cell_type": "code",
   "execution_count": 130,
   "metadata": {},
   "outputs": [
    {
     "name": "stdout",
     "output_type": "stream",
     "text": [
      "Train Naive Bayes accuracy: 78.57\n",
      "Test Naive Bayes accuracy: 76.95\n"
     ]
    }
   ],
   "source": [
    "predictions_test = nb_model.transform(test)\n",
    "predictions_train = nb_model.transform(train)\n",
    "evaluator = MulticlassClassificationEvaluator(labelCol=\"target\", predictionCol=\"prediction\", metricName=\"accuracy\")\n",
    "\n",
    "nb_train_accuracy = evaluator.evaluate(predictions_train)\n",
    "nb_test_accuracy = evaluator.evaluate(predictions_test)\n",
    "\n",
    "print(f\"Train Naive Bayes accuracy: {nb_train_accuracy * 100:.2f}\")\n",
    "print(f\"Test Naive Bayes accuracy: {nb_test_accuracy * 100:.2f}\")"
   ]
  },
  {
   "cell_type": "markdown",
   "metadata": {},
   "source": [
    "Multinomial Naive Bayes does not improve the overall accuracy as compare to the SVM and shows slightly lower accuracy than Logistic Regression."
   ]
  },
  {
   "cell_type": "markdown",
   "metadata": {},
   "source": [
    "# Best Model\n",
    "The best model based on the test accuracy is SVM. Using this model, we computed other metrics like precision, recall and f1 score."
   ]
  },
  {
   "cell_type": "code",
   "execution_count": 152,
   "metadata": {},
   "outputs": [
    {
     "name": "stdout",
     "output_type": "stream",
     "text": [
      "Best model: LinearSVCModel\n",
      "Precision: 0.7721023564765235\n",
      "Recall: 0.7720254939771105\n",
      "F1 score: 0.7720151857138976\n",
      "AUC: 0.7720422429877134\n"
     ]
    }
   ],
   "source": [
    "accuracies = [lr_test_accuracy, svm_test_accuracy, nb_test_accuracy]\n",
    "models = [lr_model, svm_model, nb_model]\n",
    "best_model = models[accuracies.index(max(accuracies))]\n",
    "\n",
    "predictions = best_model.transform(test)\n",
    "evaluator_precision = MulticlassClassificationEvaluator(labelCol=\"target\", predictionCol=\"prediction\", metricName=\"weightedPrecision\")\n",
    "evaluator_recall = MulticlassClassificationEvaluator(labelCol=\"target\", predictionCol=\"prediction\", metricName=\"weightedRecall\")\n",
    "evaluator_f1 = MulticlassClassificationEvaluator(labelCol=\"target\", predictionCol=\"prediction\", metricName=\"f1\") \n",
    "auc_evaluator = BinaryClassificationEvaluator(labelCol=\"target\", rawPredictionCol=\"prediction\", metricName=\"areaUnderROC\")\n",
    "\n",
    "\n",
    "precision = evaluator_precision.evaluate(predictions)\n",
    "recall = evaluator_recall.evaluate(predictions)\n",
    "f1_score = evaluator_f1.evaluate(predictions)\n",
    "auc = auc_evaluator.evaluate(predictions)\n",
    "\n",
    "print(f\"Best model: {type(best_model).__name__}\")\n",
    "print(f\"Precision: {precision}\")\n",
    "print(f\"Recall: {recall}\")\n",
    "print(f\"F1 score: {f1_score}\")\n",
    "print(f\"AUC: {auc}\")"
   ]
  },
  {
   "cell_type": "markdown",
   "metadata": {},
   "source": [
    "# Confusion Matrix \n",
    "In the confusion matrix, we normalized each cell of the matrix by dividing it with the corresponding sum of the row, in order to show the proportion of the correct predictions for each class."
   ]
  },
  {
   "cell_type": "code",
   "execution_count": 165,
   "metadata": {},
   "outputs": [
    {
     "data": {
      "image/png": "[encoded data removed]",
      "text/plain": [
       "<Figure size 864x576 with 2 Axes>"
      ]
     },
     "metadata": {
      "needs_background": "light"
     },
     "output_type": "display_data"
    }
   ],
   "source": [
    "predictions_cfm = predictions.withColumn('target', predictions['target'].cast('double'))\n",
    "predictions_and_labels = predictions_cfm.select('prediction', 'target').rdd.map(lambda row: (row.prediction, row.target))\n",
    "metrics = MulticlassMetrics(predictions_and_labels)\n",
    "cf_matrix = metrics.confusionMatrix().toArray()\n",
    "plt.figure(figsize = (12,8))\n",
    "sb.heatmap(cf_matrix/np.sum(cf_matrix, axis=1),\n",
    "            annot=True, \n",
    "            fmt='.1%', \n",
    "            cmap='Blues', \n",
    "            xticklabels=['Negative', 'Positive'],\n",
    "            yticklabels=['Negative', 'Positive']).set(xlabel='Predicted class', ylabel='Actual class', title='Confusion Matrix')\n",
    "plt.show()"
   ]
  },
  {
   "cell_type": "code",
   "execution_count": null,
   "metadata": {},
   "outputs": [],
   "source": [
    "spark.stop()"
   ]
  }
 ],
 "metadata": {
  "kernelspec": {
   "display_name": "Python 3",
   "language": "python",
   "name": "python3"
  },
  "language_info": {
   "codemirror_mode": {
    "name": "ipython",
    "version": 3
   },
   "file_extension": ".py",
   "mimetype": "text/x-python",
   "name": "python",
   "nbconvert_exporter": "python",
   "pygments_lexer": "ipython3",
   "version": "3.7.3"
  }
 },
 "nbformat": 4,
 "nbformat_minor": 2
}
