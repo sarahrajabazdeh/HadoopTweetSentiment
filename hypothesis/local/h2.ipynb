{
 "cells": [
  {
   "cell_type": "code",
   "execution_count": 3,
   "metadata": {},
   "outputs": [],
   "source": [
    "import pandas as pd \n",
    "import sys\n",
    "from sklearn import model_selection, linear_model, svm, naive_bayes, metrics\n",
    "import sklearn.naive_bayes\n",
    "import matplotlib.pyplot as plt \n",
    "import seaborn as sb\n",
    "import numpy as np"
   ]
  },
  {
   "cell_type": "code",
   "execution_count": 4,
   "metadata": {},
   "outputs": [],
   "source": [
    "# fetch from local path otherwise fetch from the remote path (if remote kernel is being used)\n",
    "try: \n",
    "    sys.path.append('../../../scripts')\n",
    "    import database\n",
    "except:\n",
    "    try:\n",
    "        sys.path.append('./scripts')\n",
    "        import database\n",
    "    except:\n",
    "        raise RuntimeError('Failed to import from both local and remote paths. Program terminated.')"
   ]
  },
  {
   "cell_type": "markdown",
   "metadata": {},
   "source": [
    "# Second Hypothesis\n",
    "In the following notebook it will be analyzed the following hypothesis:\n",
    " - **Can tweet sentiment be predicted more accurately using a machine learning model with the bag of words representation compared to random guessing?**"
   ]
  },
  {
   "cell_type": "code",
   "execution_count": 5,
   "metadata": {},
   "outputs": [],
   "source": [
    "collection_name = \"tweets\"\n",
    "db, mongo = database.setup_database()\n",
    "df = pd.DataFrame(list(db[collection_name].find({},{\"_id\":0})))"
   ]
  },
  {
   "cell_type": "code",
   "execution_count": 6,
   "metadata": {},
   "outputs": [
    {
     "data": {
      "text/html": [
       "<div>\n",
       "<style scoped>\n",
       "    .dataframe tbody tr th:only-of-type {\n",
       "        vertical-align: middle;\n",
       "    }\n",
       "\n",
       "    .dataframe tbody tr th {\n",
       "        vertical-align: top;\n",
       "    }\n",
       "\n",
       "    .dataframe thead th {\n",
       "        text-align: right;\n",
       "    }\n",
       "</style>\n",
       "<table border=\"1\" class=\"dataframe\">\n",
       "  <thead>\n",
       "    <tr style=\"text-align: right;\">\n",
       "      <th></th>\n",
       "      <th>target</th>\n",
       "      <th>text</th>\n",
       "    </tr>\n",
       "  </thead>\n",
       "  <tbody>\n",
       "    <tr>\n",
       "      <th>0</th>\n",
       "      <td>1</td>\n",
       "      <td>thank twitter add sunisa got meet hin show dc ...</td>\n",
       "    </tr>\n",
       "    <tr>\n",
       "      <th>1</th>\n",
       "      <td>1</td>\n",
       "      <td>ad tweeti new iphon</td>\n",
       "    </tr>\n",
       "    <tr>\n",
       "      <th>2</th>\n",
       "      <td>1</td>\n",
       "      <td>agre</td>\n",
       "    </tr>\n",
       "    <tr>\n",
       "      <th>3</th>\n",
       "      <td>1</td>\n",
       "      <td>your welcom glad enjoy</td>\n",
       "    </tr>\n",
       "    <tr>\n",
       "      <th>4</th>\n",
       "      <td>1</td>\n",
       "      <td>hahaha omg wer laughin hook cuz da rolllryt sh...</td>\n",
       "    </tr>\n",
       "  </tbody>\n",
       "</table>\n",
       "</div>"
      ],
      "text/plain": [
       "   target                                               text\n",
       "0       1  thank twitter add sunisa got meet hin show dc ...\n",
       "1       1                                ad tweeti new iphon\n",
       "2       1                                               agre\n",
       "3       1                             your welcom glad enjoy\n",
       "4       1  hahaha omg wer laughin hook cuz da rolllryt sh..."
      ]
     },
     "execution_count": 6,
     "metadata": {},
     "output_type": "execute_result"
    }
   ],
   "source": [
    "df.head()"
   ]
  },
  {
   "cell_type": "markdown",
   "metadata": {},
   "source": [
    "# Bag of Words\n",
    "The following is the bag of words representation for the given sample corpus."
   ]
  },
  {
   "cell_type": "code",
   "execution_count": 7,
   "metadata": {},
   "outputs": [
    {
     "name": "stdout",
     "output_type": "stream",
     "text": [
      "Vocabulary mapping for the sample corpus: \n",
      " {'this': 8, 'is': 3, 'the': 6, 'first': 2, 'document': 1, 'second': 5, 'and': 0, 'third': 7, 'one': 4}\n",
      "Bag of words representation for the sample corpus: \n",
      " [[0 1 1 1 0 0 1 0 1]\n",
      " [0 2 0 1 0 1 1 0 1]\n",
      " [1 0 0 1 1 0 1 1 1]\n",
      " [0 1 1 1 0 0 1 0 1]]\n"
     ]
    }
   ],
   "source": [
    "from sklearn.feature_extraction.text import CountVectorizer\n",
    "corpus = [\n",
    "     'This is the first document.',\n",
    "     'This document is the second document.',\n",
    "     'And this is the third one.',\n",
    "     'Is this the first document?',\n",
    "]\n",
    "\n",
    "vectorizer = CountVectorizer()\n",
    "bow_sample = vectorizer.fit_transform(corpus)\n",
    "print(f\"Vocabulary mapping for the sample corpus: \\n {vectorizer.vocabulary_}\")\n",
    "print(f\"Bag of words representation for the sample corpus: \\n {bow_sample.toarray()}\")"
   ]
  },
  {
   "cell_type": "markdown",
   "metadata": {},
   "source": [
    "Each row in the matrix corresponds to a document in the corpus, and each column corresponds to a word in the vocabulary. The value at each cell represents the frequency of the word in the corresponding document."
   ]
  },
  {
   "cell_type": "code",
   "execution_count": 8,
   "metadata": {},
   "outputs": [
    {
     "name": "stdout",
     "output_type": "stream",
     "text": [
      "Shape of bag of words matrix: (100745, 52983)\n",
      "Shape of labels: (100745,)\n"
     ]
    }
   ],
   "source": [
    "# generate bow for the given dataset\n",
    "bow = CountVectorizer()\n",
    "X = bow.fit_transform(df['text'])\n",
    "Y = df['target']\n",
    "print(f\"Shape of bag of words matrix: {X.shape}\")\n",
    "print(f\"Shape of labels: {Y.shape}\")"
   ]
  },
  {
   "cell_type": "code",
   "execution_count": 9,
   "metadata": {},
   "outputs": [],
   "source": [
    "# Create training and test split\n",
    "x_train, x_test, y_train, y_test = model_selection.train_test_split(X, Y, train_size=0.9, shuffle=True, random_state=0)"
   ]
  },
  {
   "cell_type": "markdown",
   "metadata": {},
   "source": [
    "# Logistic Regression\n",
    "As a base model, we are using logistic regression for the prediction of the tweets.\n",
    "For the C (inverse of the regularization strength), the suitable value that we determined for this problem is 0.1, after trying different values."
   ]
  },
  {
   "cell_type": "code",
   "execution_count": 10,
   "metadata": {},
   "outputs": [
    {
     "name": "stdout",
     "output_type": "stream",
     "text": [
      "Train Logistic Regression accuracy: 79.14\n",
      "Test Logistic Regression accuracy: 76.01\n"
     ]
    }
   ],
   "source": [
    "# Create an instance of LogisticRegression classifier\n",
    "lr = linear_model.LogisticRegression(C=0.1, solver='liblinear', multi_class='ovr')\n",
    "# Fit the model\n",
    "lr.fit(x_train, y_train)\n",
    "# Create the predictions\n",
    "lr_y_test = lr.predict(x_test)\n",
    "\n",
    "print(\"Train Logistic Regression accuracy: %.2f\" % (sklearn.metrics.accuracy_score(y_train, lr.predict(x_train)) * 100))\n",
    "print(\"Test Logistic Regression accuracy: %.2f\" % (sklearn.metrics.accuracy_score(y_test, lr_y_test) * 100))"
   ]
  },
  {
   "cell_type": "markdown",
   "metadata": {},
   "source": [
    "Clearly, our base model is predicting the tweets significantly better than the random guessing, which would have produced 50% accuracy."
   ]
  },
  {
   "cell_type": "markdown",
   "metadata": {},
   "source": [
    "# SVM\n",
    "Here we considered more complex model.\n",
    " \n",
    "For the C (inverse of the regularization strength), the suitable value that we determined for this problem is 0.05, after trying different values. We used linear kernel here over non-linear ones, since it takes less time in training the model while obtaining nearly the same accuracy."
   ]
  },
  {
   "cell_type": "code",
   "execution_count": 11,
   "metadata": {},
   "outputs": [
    {
     "name": "stdout",
     "output_type": "stream",
     "text": [
      "Train SVM accuracy: 78.89\n",
      "Test SVM accuracy: 75.59\n"
     ]
    }
   ],
   "source": [
    "# Create an instance of SVM classifier\n",
    "svm = svm.SVC(C=0.05, kernel='linear')\n",
    "# Fit the model\n",
    "svm.fit(x_train, y_train)\n",
    "\n",
    "# Create the predictions\n",
    "svm_y_test = svm.predict(x_test)\n",
    "\n",
    "print(\"Train SVM accuracy: %.2f\" % (sklearn.metrics.accuracy_score(y_train, svm.predict(x_train)) * 100))\n",
    "print(\"Test SVM accuracy: %.2f\" % (sklearn.metrics.accuracy_score(y_test, svm_y_test) * 100))"
   ]
  },
  {
   "cell_type": "markdown",
   "metadata": {},
   "source": [
    "SVM does not improve the overall accuracy as compare to Logistic Regression. Additionally, it takes significantly more time in training the model."
   ]
  },
  {
   "cell_type": "markdown",
   "metadata": {},
   "source": [
    "# Mutinomial Naive Bayes\n",
    "For the value of alpha (Laplace smoothing parameter), the suitable value that we determined for this problem is 3, after trying different values."
   ]
  },
  {
   "cell_type": "code",
   "execution_count": 12,
   "metadata": {},
   "outputs": [
    {
     "name": "stdout",
     "output_type": "stream",
     "text": [
      "Train Naive Bayes accuracy: 80.85\n",
      "Test Naive Bayes accuracy: 75.35\n"
     ]
    }
   ],
   "source": [
    "# Create an instance of Naive Bayes classifier\n",
    "nb = naive_bayes.MultinomialNB(alpha=3)\n",
    "\n",
    "# Fit the model\n",
    "nb.fit(x_train, y_train)\n",
    "\n",
    "# Create the predictions\n",
    "nb_y_test = nb.predict(x_test)\n",
    "\n",
    "print(\"Train Naive Bayes accuracy: %.2f\" % (sklearn.metrics.accuracy_score(y_train, nb.predict(x_train)) * 100))\n",
    "print(\"Test Naive Bayes accuracy: %.2f\" % (sklearn.metrics.accuracy_score(y_test, nb_y_test) * 100))"
   ]
  },
  {
   "cell_type": "markdown",
   "metadata": {},
   "source": [
    "Multinomial Naive Bayes does not improve the overall accuracy as compare to the Logistic Regression."
   ]
  },
  {
   "cell_type": "markdown",
   "metadata": {},
   "source": [
    "# Roc Curve\n",
    "Below we plotted the ROC (receiver operating characteristic) curve for all the models in order to find the best model. Clearly, AUC (area under the curve) for the Logistic Regression Model is higher than the rest of the other models with an AUC of 0.76"
   ]
  },
  {
   "cell_type": "code",
   "execution_count": 13,
   "metadata": {},
   "outputs": [
    {
     "name": "stderr",
     "output_type": "stream",
     "text": [
      "/home/datascience/anaconda3/lib/python3.7/site-packages/sklearn/utils/deprecation.py:87: FutureWarning: Function plot_roc_curve is deprecated; Function :func:`plot_roc_curve` is deprecated in 1.0 and will be removed in 1.2. Use one of the class methods: :meth:`sklearn.metric.RocCurveDisplay.from_predictions` or :meth:`sklearn.metric.RocCurveDisplay.from_estimator`.\n",
      "  warnings.warn(msg, category=FutureWarning)\n",
      "/home/datascience/anaconda3/lib/python3.7/site-packages/sklearn/utils/deprecation.py:87: FutureWarning: Function plot_roc_curve is deprecated; Function :func:`plot_roc_curve` is deprecated in 1.0 and will be removed in 1.2. Use one of the class methods: :meth:`sklearn.metric.RocCurveDisplay.from_predictions` or :meth:`sklearn.metric.RocCurveDisplay.from_estimator`.\n",
      "  warnings.warn(msg, category=FutureWarning)\n",
      "/home/datascience/anaconda3/lib/python3.7/site-packages/sklearn/utils/deprecation.py:87: FutureWarning: Function plot_roc_curve is deprecated; Function :func:`plot_roc_curve` is deprecated in 1.0 and will be removed in 1.2. Use one of the class methods: :meth:`sklearn.metric.RocCurveDisplay.from_predictions` or :meth:`sklearn.metric.RocCurveDisplay.from_estimator`.\n",
      "  warnings.warn(msg, category=FutureWarning)\n"
     ]
    },
    {
     "data": {
      "image/png": "[encoded data removed]",
      "text/plain": [
       "<Figure size 432x288 with 1 Axes>"
      ]
     },
     "metadata": {
      "needs_background": "light"
     },
     "output_type": "display_data"
    }
   ],
   "source": [
    "lr_disp = metrics.plot_roc_curve(lr, x_test, y_test)\n",
    "lr_auc = metrics.roc_auc_score(y_test, lr_y_test)\n",
    "\n",
    "nb_disp = sklearn.metrics.plot_roc_curve(nb, x_test, y_test, ax=lr_disp.ax_)\n",
    "nb_auc = sklearn.metrics.roc_auc_score(y_test, nb_y_test)\n",
    "\n",
    "svm_disp = metrics.plot_roc_curve(svm, x_test, y_test, ax=lr_disp.ax_)\n",
    "svm_auc = metrics.roc_auc_score(y_test, svm_y_test)\n",
    "\n",
    "plt.plot([0, 1], [0, 1], linestyle='--', color='green', label='Random Classifier')\n",
    "\n",
    "lr_disp.figure_.suptitle(\"ROC curve comparison\")\n",
    "plt.legend(labels=[f'Logistic Regression (AUC = {lr_auc:.3f})', f'Naive Bayes (AUC = {nb_auc:.3f})', f'SVM (AUC = {svm_auc:.3f})', 'Random Classifier (AUC = 0.5)'])\n",
    "plt.show() "
   ]
  },
  {
   "cell_type": "code",
   "execution_count": 14,
   "metadata": {},
   "outputs": [
    {
     "name": "stdout",
     "output_type": "stream",
     "text": [
      "Best model: LogisticRegression\n",
      "Precision: 0.74\n",
      "Recall: 0.80\n",
      "F1 Score: 0.77\n"
     ]
    }
   ],
   "source": [
    "auc = [lr_auc, nb_auc, svm_auc]\n",
    "models = [lr, nb, svm]\n",
    "\n",
    "# pick the best model based on the AUC score\n",
    "best_model = models[auc.index(max(auc))]\n",
    "precision = metrics.precision_score(y_test, best_model.predict(x_test))\n",
    "recall = metrics.recall_score(y_test, best_model.predict(x_test))\n",
    "f1 = metrics.f1_score(y_test, best_model.predict(x_test))\n",
    "\n",
    "print(f\"Best model: {type(best_model).__name__}\")\n",
    "print(f\"Precision: {precision:.3f}\")\n",
    "print(f\"Recall: {recall:.3f}\")\n",
    "print(f\"F1 Score: {f1:.3f}\")"
   ]
  },
  {
   "cell_type": "markdown",
   "metadata": {},
   "source": [
    "# Confusion Matrix \n",
    "In the confusion matrix, we normalized each cell of the matrix by dividing it with the corresponding sum of the row, in order to show the proportion of the correct predictions for each class."
   ]
  },
  {
   "cell_type": "code",
   "execution_count": 15,
   "metadata": {},
   "outputs": [
    {
     "data": {
      "image/png": "[encoded data removed]",
      "text/plain": [
       "<Figure size 864x576 with 2 Axes>"
      ]
     },
     "metadata": {
      "needs_background": "light"
     },
     "output_type": "display_data"
    }
   ],
   "source": [
    "cf_matrix = metrics.confusion_matrix(y_test, best_model.predict(x_test))\n",
    "plt.figure(figsize = (12,8))\n",
    "sb.heatmap(cf_matrix/np.sum(cf_matrix, axis=1),\n",
    "            annot=True, \n",
    "            fmt='.1%', \n",
    "            cmap='Blues', \n",
    "            xticklabels=['Negative', 'Positive'],\n",
    "            yticklabels=['Negative', 'Positive']).set(xlabel='Predicted class', ylabel='Actual class', title='Confusion Matrix')\n",
    "plt.show()"
   ]
  }
 ],
 "metadata": {
  "kernelspec": {
   "display_name": "Python 3",
   "language": "python",
   "name": "python3"
  }
 },
 "nbformat": 4,
 "nbformat_minor": 2
}
