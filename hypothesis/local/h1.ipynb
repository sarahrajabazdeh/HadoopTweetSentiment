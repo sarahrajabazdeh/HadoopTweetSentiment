{
 "cells": [
  {
   "cell_type": "code",
   "execution_count": 12,
   "metadata": {},
   "outputs": [],
   "source": [
    "import pandas as pd \n",
    "import scipy.stats as stats\n",
    "import numpy as np\n",
    "import sys\n",
    "import matplotlib.pyplot as plt"
   ]
  },
  {
   "cell_type": "code",
   "execution_count": 2,
   "metadata": {},
   "outputs": [],
   "source": [
    "# fetch from local path otherwise fetch from the remote path (if remote kernel is being used)\n",
    "try: \n",
    "    sys.path.append('../../../scripts')\n",
    "    import database\n",
    "    import utils\n",
    "except:\n",
    "    try:\n",
    "        sys.path.append('./scripts')\n",
    "        import database\n",
    "        import utils\n",
    "    except:\n",
    "        raise RuntimeError('Failed to import from both local and remote paths. Program terminated.')"
   ]
  },
  {
   "cell_type": "markdown",
   "metadata": {},
   "source": [
    "# First Hypothesis\n",
    "In the following notebook it will be analyzed the following hypothesis:\n",
    " - **Does the length of the tweets, have an impact on the positivity or negativity of the review?**"
   ]
  },
  {
   "cell_type": "code",
   "execution_count": 3,
   "metadata": {},
   "outputs": [],
   "source": [
    "db, mongo = database.setup_database()"
   ]
  },
  {
   "cell_type": "code",
   "execution_count": 4,
   "metadata": {},
   "outputs": [
    {
     "data": {
      "text/html": [
       "<div>\n",
       "<style scoped>\n",
       "    .dataframe tbody tr th:only-of-type {\n",
       "        vertical-align: middle;\n",
       "    }\n",
       "\n",
       "    .dataframe tbody tr th {\n",
       "        vertical-align: top;\n",
       "    }\n",
       "\n",
       "    .dataframe thead th {\n",
       "        text-align: right;\n",
       "    }\n",
       "</style>\n",
       "<table border=\"1\" class=\"dataframe\">\n",
       "  <thead>\n",
       "    <tr style=\"text-align: right;\">\n",
       "      <th></th>\n",
       "      <th>_id</th>\n",
       "      <th>target</th>\n",
       "      <th>text</th>\n",
       "    </tr>\n",
       "  </thead>\n",
       "  <tbody>\n",
       "    <tr>\n",
       "      <th>0</th>\n",
       "      <td>6623a0c4d8a4ade911185691</td>\n",
       "      <td>1</td>\n",
       "      <td>thank twitter add sunisa got meet hin show dc ...</td>\n",
       "    </tr>\n",
       "    <tr>\n",
       "      <th>1</th>\n",
       "      <td>6623a0c4d8a4ade911185692</td>\n",
       "      <td>1</td>\n",
       "      <td>ad tweeti new iphon</td>\n",
       "    </tr>\n",
       "    <tr>\n",
       "      <th>2</th>\n",
       "      <td>6623a0c4d8a4ade911185693</td>\n",
       "      <td>1</td>\n",
       "      <td>agre</td>\n",
       "    </tr>\n",
       "    <tr>\n",
       "      <th>3</th>\n",
       "      <td>6623a0c4d8a4ade911185694</td>\n",
       "      <td>1</td>\n",
       "      <td>your welcom glad enjoy</td>\n",
       "    </tr>\n",
       "    <tr>\n",
       "      <th>4</th>\n",
       "      <td>6623a0c4d8a4ade911185695</td>\n",
       "      <td>1</td>\n",
       "      <td>hahaha omg wer laughin hook cuz da rolllryt sh...</td>\n",
       "    </tr>\n",
       "    <tr>\n",
       "      <th>5</th>\n",
       "      <td>6623a0c4d8a4ade911185696</td>\n",
       "      <td>1</td>\n",
       "      <td>practic linesmannerismsvoic upcom featur shoot...</td>\n",
       "    </tr>\n",
       "    <tr>\n",
       "      <th>6</th>\n",
       "      <td>6623a0c4d8a4ade911185697</td>\n",
       "      <td>1</td>\n",
       "      <td>today two month anniversari love sooooooo much...</td>\n",
       "    </tr>\n",
       "    <tr>\n",
       "      <th>7</th>\n",
       "      <td>6623a0c4d8a4ade911185698</td>\n",
       "      <td>1</td>\n",
       "      <td>upload pictur friendster</td>\n",
       "    </tr>\n",
       "    <tr>\n",
       "      <th>8</th>\n",
       "      <td>6623a0c4d8a4ade911185699</td>\n",
       "      <td>1</td>\n",
       "      <td>apart sore tryout</td>\n",
       "    </tr>\n",
       "    <tr>\n",
       "      <th>9</th>\n",
       "      <td>6623a0c4d8a4ade91118569a</td>\n",
       "      <td>1</td>\n",
       "      <td>bonjour spacecowboyi wish either work kid go w...</td>\n",
       "    </tr>\n",
       "  </tbody>\n",
       "</table>\n",
       "</div>"
      ],
      "text/plain": [
       "                        _id  target  \\\n",
       "0  6623a0c4d8a4ade911185691       1   \n",
       "1  6623a0c4d8a4ade911185692       1   \n",
       "2  6623a0c4d8a4ade911185693       1   \n",
       "3  6623a0c4d8a4ade911185694       1   \n",
       "4  6623a0c4d8a4ade911185695       1   \n",
       "5  6623a0c4d8a4ade911185696       1   \n",
       "6  6623a0c4d8a4ade911185697       1   \n",
       "7  6623a0c4d8a4ade911185698       1   \n",
       "8  6623a0c4d8a4ade911185699       1   \n",
       "9  6623a0c4d8a4ade91118569a       1   \n",
       "\n",
       "                                                text  \n",
       "0  thank twitter add sunisa got meet hin show dc ...  \n",
       "1                                ad tweeti new iphon  \n",
       "2                                               agre  \n",
       "3                             your welcom glad enjoy  \n",
       "4  hahaha omg wer laughin hook cuz da rolllryt sh...  \n",
       "5  practic linesmannerismsvoic upcom featur shoot...  \n",
       "6  today two month anniversari love sooooooo much...  \n",
       "7                           upload pictur friendster  \n",
       "8                                  apart sore tryout  \n",
       "9  bonjour spacecowboyi wish either work kid go w...  "
      ]
     },
     "execution_count": 4,
     "metadata": {},
     "output_type": "execute_result"
    }
   ],
   "source": [
    "tweets = pd.DataFrame(list(db.tweets.find()))\n",
    "tweets.head(10)"
   ]
  },
  {
   "cell_type": "markdown",
   "metadata": {},
   "source": [
    "### Metrics (length)\n",
    "For performing this analysis, we obtain the length of each tweet and  include it as an additional column in the dataframe."
   ]
  },
  {
   "cell_type": "code",
   "execution_count": 5,
   "metadata": {},
   "outputs": [],
   "source": [
    "tweets['length'] = tweets['text'].apply(len)"
   ]
  },
  {
   "cell_type": "code",
   "execution_count": 6,
   "metadata": {},
   "outputs": [
    {
     "data": {
      "text/html": [
       "<div>\n",
       "<style scoped>\n",
       "    .dataframe tbody tr th:only-of-type {\n",
       "        vertical-align: middle;\n",
       "    }\n",
       "\n",
       "    .dataframe tbody tr th {\n",
       "        vertical-align: top;\n",
       "    }\n",
       "\n",
       "    .dataframe thead th {\n",
       "        text-align: right;\n",
       "    }\n",
       "</style>\n",
       "<table border=\"1\" class=\"dataframe\">\n",
       "  <thead>\n",
       "    <tr style=\"text-align: right;\">\n",
       "      <th></th>\n",
       "      <th>target</th>\n",
       "      <th>length</th>\n",
       "    </tr>\n",
       "  </thead>\n",
       "  <tbody>\n",
       "    <tr>\n",
       "      <th>count</th>\n",
       "      <td>100745.000000</td>\n",
       "      <td>100745.000000</td>\n",
       "    </tr>\n",
       "    <tr>\n",
       "      <th>mean</th>\n",
       "      <td>0.498466</td>\n",
       "      <td>39.396675</td>\n",
       "    </tr>\n",
       "    <tr>\n",
       "      <th>std</th>\n",
       "      <td>0.500000</td>\n",
       "      <td>22.087176</td>\n",
       "    </tr>\n",
       "    <tr>\n",
       "      <th>min</th>\n",
       "      <td>0.000000</td>\n",
       "      <td>1.000000</td>\n",
       "    </tr>\n",
       "    <tr>\n",
       "      <th>25%</th>\n",
       "      <td>0.000000</td>\n",
       "      <td>21.000000</td>\n",
       "    </tr>\n",
       "    <tr>\n",
       "      <th>50%</th>\n",
       "      <td>0.000000</td>\n",
       "      <td>36.000000</td>\n",
       "    </tr>\n",
       "    <tr>\n",
       "      <th>75%</th>\n",
       "      <td>1.000000</td>\n",
       "      <td>55.000000</td>\n",
       "    </tr>\n",
       "    <tr>\n",
       "      <th>max</th>\n",
       "      <td>1.000000</td>\n",
       "      <td>132.000000</td>\n",
       "    </tr>\n",
       "  </tbody>\n",
       "</table>\n",
       "</div>"
      ],
      "text/plain": [
       "              target         length\n",
       "count  100745.000000  100745.000000\n",
       "mean        0.498466      39.396675\n",
       "std         0.500000      22.087176\n",
       "min         0.000000       1.000000\n",
       "25%         0.000000      21.000000\n",
       "50%         0.000000      36.000000\n",
       "75%         1.000000      55.000000\n",
       "max         1.000000     132.000000"
      ]
     },
     "execution_count": 6,
     "metadata": {},
     "output_type": "execute_result"
    }
   ],
   "source": [
    "tweets.describe()"
   ]
  },
  {
   "cell_type": "markdown",
   "metadata": {},
   "source": [
    "# Correlation Test\n",
    "We are using Spearman's correlation coefficient test to find out whether we have positive correlation or negative correlation with the length of the tweet. Furthermore, we are also inspecting the value of p to assess the significance of the length feature."
   ]
  },
  {
   "cell_type": "code",
   "execution_count": 7,
   "metadata": {},
   "outputs": [],
   "source": [
    "# Piersen correlation\n",
    "spearman_r_stat, p_value = spearman_r_stat, p_value = stats.spearmanr(tweets['target'], tweets['length'])"
   ]
  },
  {
   "cell_type": "markdown",
   "metadata": {},
   "source": [
    "# Interpretation of the Resuts\n",
    "Since the value of the coefficient is close to zero it means that it has a very weak correlation. Although, the value of p is statistically significant since it is less that 0.05."
   ]
  },
  {
   "cell_type": "code",
   "execution_count": 14,
   "metadata": {},
   "outputs": [
    {
     "name": "stdout",
     "output_type": "stream",
     "text": [
      "Spearman correlation coefficient: -0.0359 p-value: 4.3539266335030966e-30\n",
      "The correlation is significant hence reject the null hypothesis\n"
     ]
    }
   ],
   "source": [
    "print(f'Spearman correlation coefficient: {spearman_r_stat:.4f} p-value: {p_value}')\n",
    "\n",
    "if p_value < 0.05:\n",
    "    print('The correlation is significant hence reject the null hypothesis')\n",
    "else:\n",
    "    print('Do not reject the null hypothesis')"
   ]
  },
  {
   "cell_type": "markdown",
   "metadata": {},
   "source": [
    "# Effect Size\n",
    "To invalidate the significance fallacy, we used Cohen's d test to see the effect size for the two groups."
   ]
  },
  {
   "cell_type": "code",
   "execution_count": 9,
   "metadata": {},
   "outputs": [
    {
     "name": "stdout",
     "output_type": "stream",
     "text": [
      "Cohen's d: 0.0720\n"
     ]
    }
   ],
   "source": [
    "group1 = tweets[tweets['target'] == 0]['length']\n",
    "group2 = tweets[tweets['target'] == 1]['length']\n",
    "cohen_d = utils.cohen_d(group1, group2)\n",
    "print(f'Cohen\\'s d: {cohen_d:.4f}') "
   ]
  },
  {
   "cell_type": "markdown",
   "metadata": {},
   "source": [
    "# Interpretation of Cohen's d:\n",
    " - Cohen's d values around 0.2 are considered small effect sizes.\n",
    " - Values around 0.5 represent medium effect sizes.\n",
    " - Values of 0.8 or higher indicate large effect sizes.\n",
    "\n",
    "The effect size obtained is close to zero, which suggests extremely small effect size. Therefore, there is very little difference between the means of the two groups relative to the variablity within the groups. We can infer that the difference is likely not practically significant, although it is statistically significant due to large sample size."
   ]
  },
  {
   "cell_type": "code",
   "execution_count": 10,
   "metadata": {},
   "outputs": [],
   "source": [
    "mongo.close()"
   ]
  },
  {
   "cell_type": "markdown",
   "metadata": {},
   "source": [
    "## Visualization of the Tweet Length Distribution by sentiment"
   ]
  },
  {
   "cell_type": "code",
   "execution_count": 13,
   "metadata": {},
   "outputs": [
    {
     "data": {
      "image/png": "[encoded data removed]",
      "text/plain": [
       "<Figure size 432x288 with 1 Axes>"
      ]
     },
     "metadata": {
      "needs_background": "light"
     },
     "output_type": "display_data"
    }
   ],
   "source": [
    "# Separate positive and negative tweets\n",
    "positive_tweets = tweets[tweets['target'] == 1]\n",
    "negative_tweets = tweets[tweets['target'] == 0]\n",
    "\n",
    "# Group positive and negative tweets by their length and count the occurrences\n",
    "positive_tweet_length_counts = positive_tweets.groupby('length').size()\n",
    "negative_tweet_length_counts = negative_tweets.groupby('length').size()\n",
    "\n",
    "plt.plot(positive_tweet_length_counts.index, positive_tweet_length_counts.values, color='blue', label='Positive Tweets')\n",
    "plt.plot(negative_tweet_length_counts.index, negative_tweet_length_counts.values, color='red', label='Negative Tweets')\n",
    "plt.xlabel('Length of Tweets')\n",
    "plt.ylabel('Number of Tweets')\n",
    "plt.title('Tweet Length Distribution by Sentiment')\n",
    "plt.legend()\n",
    "plt.grid(True)\n",
    "plt.show()"
   ]
  },
  {
   "cell_type": "markdown",
   "metadata": {},
   "source": [
    "In the above graph, we can see that the two lines for the different sentiment are almost identical. Hence, we can conclude that there might be not be a signifant influence of the tweets' length on the sentiment."
   ]
  }
 ],
 "metadata": {
  "kernelspec": {
   "display_name": "Python 3",
   "language": "python",
   "name": "python3"
  },
  "language_info": {
   "codemirror_mode": {
    "name": "ipython",
    "version": 3
   },
   "file_extension": ".py",
   "mimetype": "text/x-python",
   "name": "python",
   "nbconvert_exporter": "python",
   "pygments_lexer": "ipython3",
   "version": "3.7.3"
  }
 },
 "nbformat": 4,
 "nbformat_minor": 2
}
