{
 "cells": [
  {
   "cell_type": "code",
   "execution_count": 116,
   "metadata": {},
   "outputs": [],
   "source": [
    "import pandas as pd \n",
    "import scipy.stats as stats\n",
    "import numpy as np\n",
    "import sys"
   ]
  },
  {
   "cell_type": "code",
   "execution_count": 117,
   "metadata": {},
   "outputs": [],
   "source": [
    "# fetch from local path otherwise fetch from the remote path (if remote kernel is being used)\n",
    "try: \n",
    "    sys.path.append('../../scripts')\n",
    "    import database\n",
    "    import utils\n",
    "except:\n",
    "    try:\n",
    "        sys.path.append('./scripts')\n",
    "        import database\n",
    "        import utils\n",
    "    except:\n",
    "        raise RuntimeError('Failed to import from both local and remote paths. Program terminated.')"
   ]
  },
  {
   "cell_type": "markdown",
   "metadata": {},
   "source": [
    "# First Hypothesis\n",
    "In the following notebook it will be analyzed the following hypothesis:\n",
    " - **Does the length of the tweets, have an impact on the positivity or negativity of the review?**"
   ]
  },
  {
   "cell_type": "code",
   "execution_count": 118,
   "metadata": {},
   "outputs": [],
   "source": [
    "db, mongo = database.setup_database()"
   ]
  },
  {
   "cell_type": "code",
   "execution_count": 123,
   "metadata": {},
   "outputs": [
    {
     "data": {
      "text/html": [
       "<div>\n",
       "<style scoped>\n",
       "    .dataframe tbody tr th:only-of-type {\n",
       "        vertical-align: middle;\n",
       "    }\n",
       "\n",
       "    .dataframe tbody tr th {\n",
       "        vertical-align: top;\n",
       "    }\n",
       "\n",
       "    .dataframe thead th {\n",
       "        text-align: right;\n",
       "    }\n",
       "</style>\n",
       "<table border=\"1\" class=\"dataframe\">\n",
       "  <thead>\n",
       "    <tr style=\"text-align: right;\">\n",
       "      <th></th>\n",
       "      <th>_id</th>\n",
       "      <th>target</th>\n",
       "      <th>text</th>\n",
       "    </tr>\n",
       "  </thead>\n",
       "  <tbody>\n",
       "    <tr>\n",
       "      <th>0</th>\n",
       "      <td>660b27e0231a437419673c8b</td>\n",
       "      <td>1</td>\n",
       "      <td>love u guy r best</td>\n",
       "    </tr>\n",
       "    <tr>\n",
       "      <th>1</th>\n",
       "      <td>660b27e0231a437419673c8c</td>\n",
       "      <td>1</td>\n",
       "      <td>im meet one besti tonight cant wait girl talk</td>\n",
       "    </tr>\n",
       "    <tr>\n",
       "      <th>2</th>\n",
       "      <td>660b27e0231a437419673c8d</td>\n",
       "      <td>1</td>\n",
       "      <td>thank twitter add sunisa got meet hin show dc ...</td>\n",
       "    </tr>\n",
       "    <tr>\n",
       "      <th>3</th>\n",
       "      <td>660b27e0231a437419673c8e</td>\n",
       "      <td>1</td>\n",
       "      <td>sick realli cheap hurt much eat real food plu ...</td>\n",
       "    </tr>\n",
       "    <tr>\n",
       "      <th>4</th>\n",
       "      <td>660b27e0231a437419673c8f</td>\n",
       "      <td>1</td>\n",
       "      <td>effect everyon</td>\n",
       "    </tr>\n",
       "    <tr>\n",
       "      <th>5</th>\n",
       "      <td>660b27e0231a437419673c90</td>\n",
       "      <td>1</td>\n",
       "      <td>tell burst laugh realli loud thank make come sulk</td>\n",
       "    </tr>\n",
       "    <tr>\n",
       "      <th>6</th>\n",
       "      <td>660b27e0231a437419673c91</td>\n",
       "      <td>1</td>\n",
       "      <td>than respons ihad alreadi find answer</td>\n",
       "    </tr>\n",
       "    <tr>\n",
       "      <th>7</th>\n",
       "      <td>660b27e0231a437419673c92</td>\n",
       "      <td>1</td>\n",
       "      <td>jealou hope great time vega like acm love show</td>\n",
       "    </tr>\n",
       "    <tr>\n",
       "      <th>8</th>\n",
       "      <td>660b27e0231a437419673c93</td>\n",
       "      <td>1</td>\n",
       "      <td>ah congrat mr fletcher final join twitter</td>\n",
       "    </tr>\n",
       "    <tr>\n",
       "      <th>9</th>\n",
       "      <td>660b27e0231a437419673c94</td>\n",
       "      <td>1</td>\n",
       "      <td>respond stupid cat help type forgiv error</td>\n",
       "    </tr>\n",
       "  </tbody>\n",
       "</table>\n",
       "</div>"
      ],
      "text/plain": [
       "                        _id  target  \\\n",
       "0  660b27e0231a437419673c8b       1   \n",
       "1  660b27e0231a437419673c8c       1   \n",
       "2  660b27e0231a437419673c8d       1   \n",
       "3  660b27e0231a437419673c8e       1   \n",
       "4  660b27e0231a437419673c8f       1   \n",
       "5  660b27e0231a437419673c90       1   \n",
       "6  660b27e0231a437419673c91       1   \n",
       "7  660b27e0231a437419673c92       1   \n",
       "8  660b27e0231a437419673c93       1   \n",
       "9  660b27e0231a437419673c94       1   \n",
       "\n",
       "                                                text  \n",
       "0                                  love u guy r best  \n",
       "1      im meet one besti tonight cant wait girl talk  \n",
       "2  thank twitter add sunisa got meet hin show dc ...  \n",
       "3  sick realli cheap hurt much eat real food plu ...  \n",
       "4                                     effect everyon  \n",
       "5  tell burst laugh realli loud thank make come sulk  \n",
       "6              than respons ihad alreadi find answer  \n",
       "7     jealou hope great time vega like acm love show  \n",
       "8          ah congrat mr fletcher final join twitter  \n",
       "9          respond stupid cat help type forgiv error  "
      ]
     },
     "execution_count": 123,
     "metadata": {},
     "output_type": "execute_result"
    }
   ],
   "source": [
    "tweets = pd.DataFrame(list(db.tweets.find()))\n",
    "tweets.head(10)"
   ]
  },
  {
   "cell_type": "markdown",
   "metadata": {},
   "source": [
    "### Metrics (length)\n",
    "For performing this analysis, we obtain the length of each tweet and  include it as an additional column in the dataframe."
   ]
  },
  {
   "cell_type": "code",
   "execution_count": 124,
   "metadata": {},
   "outputs": [],
   "source": [
    "tweets['length'] = tweets['text'].apply(len)"
   ]
  },
  {
   "cell_type": "code",
   "execution_count": 127,
   "metadata": {},
   "outputs": [
    {
     "data": {
      "text/html": [
       "<div>\n",
       "<style scoped>\n",
       "    .dataframe tbody tr th:only-of-type {\n",
       "        vertical-align: middle;\n",
       "    }\n",
       "\n",
       "    .dataframe tbody tr th {\n",
       "        vertical-align: top;\n",
       "    }\n",
       "\n",
       "    .dataframe thead th {\n",
       "        text-align: right;\n",
       "    }\n",
       "</style>\n",
       "<table border=\"1\" class=\"dataframe\">\n",
       "  <thead>\n",
       "    <tr style=\"text-align: right;\">\n",
       "      <th></th>\n",
       "      <th>target</th>\n",
       "      <th>length</th>\n",
       "    </tr>\n",
       "  </thead>\n",
       "  <tbody>\n",
       "    <tr>\n",
       "      <th>count</th>\n",
       "      <td>1.591422e+06</td>\n",
       "      <td>1.591422e+06</td>\n",
       "    </tr>\n",
       "    <tr>\n",
       "      <th>mean</th>\n",
       "      <td>4.999937e-01</td>\n",
       "      <td>3.928125e+01</td>\n",
       "    </tr>\n",
       "    <tr>\n",
       "      <th>std</th>\n",
       "      <td>5.000002e-01</td>\n",
       "      <td>2.204537e+01</td>\n",
       "    </tr>\n",
       "    <tr>\n",
       "      <th>min</th>\n",
       "      <td>0.000000e+00</td>\n",
       "      <td>1.000000e+00</td>\n",
       "    </tr>\n",
       "    <tr>\n",
       "      <th>25%</th>\n",
       "      <td>0.000000e+00</td>\n",
       "      <td>2.100000e+01</td>\n",
       "    </tr>\n",
       "    <tr>\n",
       "      <th>50%</th>\n",
       "      <td>0.000000e+00</td>\n",
       "      <td>3.600000e+01</td>\n",
       "    </tr>\n",
       "    <tr>\n",
       "      <th>75%</th>\n",
       "      <td>1.000000e+00</td>\n",
       "      <td>5.500000e+01</td>\n",
       "    </tr>\n",
       "    <tr>\n",
       "      <th>max</th>\n",
       "      <td>1.000000e+00</td>\n",
       "      <td>1.650000e+02</td>\n",
       "    </tr>\n",
       "  </tbody>\n",
       "</table>\n",
       "</div>"
      ],
      "text/plain": [
       "             target        length\n",
       "count  1.591422e+06  1.591422e+06\n",
       "mean   4.999937e-01  3.928125e+01\n",
       "std    5.000002e-01  2.204537e+01\n",
       "min    0.000000e+00  1.000000e+00\n",
       "25%    0.000000e+00  2.100000e+01\n",
       "50%    0.000000e+00  3.600000e+01\n",
       "75%    1.000000e+00  5.500000e+01\n",
       "max    1.000000e+00  1.650000e+02"
      ]
     },
     "execution_count": 127,
     "metadata": {},
     "output_type": "execute_result"
    }
   ],
   "source": [
    "tweets.describe()"
   ]
  },
  {
   "cell_type": "markdown",
   "metadata": {},
   "source": [
    "# Correlation Test\n",
    "We are using Spearman's correlation coefficient test to find out whether we have positive correlation or negative correlation with the length of the tweet. Furthermore, we are also inspecting the value of p to assess the significance of the length feature."
   ]
  },
  {
   "cell_type": "code",
   "execution_count": 128,
   "metadata": {},
   "outputs": [],
   "source": [
    "# Piersen correlation\n",
    "spearman_r_stat, p_value = spearman_r_stat, p_value = stats.spearmanr(tweets['target'], tweets['length'])"
   ]
  },
  {
   "cell_type": "markdown",
   "metadata": {},
   "source": [
    "# Interpretation of the Resuts\n",
    "Since the value of the coefficient is close to zero it means that it has a very weak correlation. Although, the value of p is statistically significant since it is less that 0.05."
   ]
  },
  {
   "cell_type": "code",
   "execution_count": 134,
   "metadata": {},
   "outputs": [
    {
     "name": "stdout",
     "output_type": "stream",
     "text": [
      "Spearman correlation coefficient: -0.0396 p-value: 0.0\n",
      "The correlation is significant\n"
     ]
    }
   ],
   "source": [
    "print(f'Spearman correlation coefficient: {spearman_r_stat:.4f} p-value: {p_value}')\n",
    "\n",
    "if p_value < 0.05:\n",
    "    print('The correlation is significant')\n",
    "else:\n",
    "    print('Do not reject the null hypothesis')"
   ]
  },
  {
   "cell_type": "markdown",
   "metadata": {},
   "source": [
    "# Effect Size\n",
    "To invalidate the significance fallacy, we used Cohen's d test to see the effect size for the two groups."
   ]
  },
  {
   "cell_type": "code",
   "execution_count": 136,
   "metadata": {},
   "outputs": [
    {
     "name": "stdout",
     "output_type": "stream",
     "text": [
      "Cohen's d: 0.0776\n"
     ]
    }
   ],
   "source": [
    "group1 = tweets[tweets['target'] == 0]['length']\n",
    "group2 = tweets[tweets['target'] == 1]['length']\n",
    "cohen_d = utils.cohen_d(group1, group2)\n",
    "print(f'Cohen\\'s d: {cohen_d:.4f}') "
   ]
  },
  {
   "cell_type": "markdown",
   "metadata": {},
   "source": [
    "# Interpretation of Cohen's d:\n",
    " - Cohen's d values around 0.2 are considered small effect sizes.\n",
    " - Values around 0.5 represent medium effect sizes.\n",
    " - Values of 0.8 or higher indicate large effect sizes.\n",
    "\n",
    "The effect size obtained is close to zero, which suggests extremely small effect size. Therefore, there is very little difference between the means of the two groups relative to the variablity within the groups. We can infer that the difference is likely not practically significant, although it is statistically significant due to large sample size."
   ]
  },
  {
   "cell_type": "code",
   "execution_count": 11,
   "metadata": {},
   "outputs": [],
   "source": [
    "mongo.close()"
   ]
  },
  {
   "cell_type": "markdown",
   "metadata": {},
   "source": [
    "## Visualization of the Tweet Length Distribution by sentiment"
   ]
  },
  {
   "cell_type": "code",
   "execution_count": 167,
   "metadata": {},
   "outputs": [
    {
     "data": {
      "image/png": "[encoded data removed]",
      "text/plain": [
       "<Figure size 432x288 with 1 Axes>"
      ]
     },
     "metadata": {
      "needs_background": "light"
     },
     "output_type": "display_data"
    }
   ],
   "source": [
    "# Separate positive and negative tweets\n",
    "positive_tweets = tweets[tweets['target'] == 1]\n",
    "negative_tweets = tweets[tweets['target'] == 0]\n",
    "\n",
    "# Group positive and negative tweets by their length and count the occurrences\n",
    "positive_tweet_length_counts = positive_tweets.groupby('length').size()\n",
    "negative_tweet_length_counts = negative_tweets.groupby('length').size()\n",
    "\n",
    "plt.plot(positive_tweet_length_counts.index, positive_tweet_length_counts.values, color='blue', label='Positive Tweets')\n",
    "plt.plot(negative_tweet_length_counts.index, negative_tweet_length_counts.values, color='red', label='Negative Tweets')\n",
    "plt.xlabel('Length of Tweets')\n",
    "plt.ylabel('Number of Tweets')\n",
    "plt.title('Tweet Length Distribution by Sentiment')\n",
    "plt.legend()\n",
    "plt.grid(True)\n",
    "plt.show()"
   ]
  },
  {
   "cell_type": "markdown",
   "metadata": {},
   "source": [
    "In the above graph, we can see that the two lines for the different sentiment are almost identical. Hence, we can conclude that there might be not be a signifant influence of the tweets' length on the sentiment."
   ]
  }
 ],
 "metadata": {
  "kernelspec": {
   "display_name": "Python 3",
   "language": "python",
   "name": "python3"
  }
 },
 "nbformat": 4,
 "nbformat_minor": 2
}
