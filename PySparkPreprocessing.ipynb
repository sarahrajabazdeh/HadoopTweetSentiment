{
 "cells": [
  {
   "cell_type": "code",
   "execution_count": null,
   "metadata": {},
   "outputs": [],
   "source": [
    "from pyspark.sql import SparkSession\n",
    "from pyspark.sql.functions import split, col\n",
    "from pyspark.sql.types import IntegerType\n",
    "from pyspark.ml.feature import VectorAssembler\n",
    "from pyspark.ml.linalg import Vectors\n",
    "\n",
    "# Initialize Spark Session\n",
    "spark = SparkSession.builder \\\n",
    "    .appName(\"PySparkPreprocessing\") \\\n",
    "    .getOrCreate()\n",
    "\n",
    "# Read the reducer output from HDFS\n",
    "data_path = \"\"  \n",
    "df = spark.read.text(data_path)\n",
    "\n",
    "# Parse the reducer output\n",
    "split_col = split(df['value'], '\\t')\n",
    "df_parsed = df.withColumn('word', split_col.getItem(0)) \\\n",
    "              .withColumn('count', split_col.getItem(1).cast(IntegerType())) \\\n",
    "              .drop('value')\n",
    "\n",
    "# Aggregate word counts \n",
    "# aggregate to find total counts\n",
    "df_aggregated = df_parsed.groupBy('word').sum('count').withColumnRenamed('sum(count)', 'total_count')\n",
    "\n",
    "\n",
    "df_aggregated.show()\n",
    "\n",
    "#  a simplified scenario where we only use the word counts as features\n",
    "\n",
    "# First, ensure there's an index to use as a key for vector assembly (a requirement)\n",
    "df_indexed = df_aggregated.withColumn(\"id\", monotonically_increasing_id())\n",
    "\n",
    "# Assemble the 'total_count' into a feature vector\n",
    "vectorAssembler = VectorAssembler(inputCols=['total_count'], outputCol='features')\n",
    "df_vectorized = vectorAssembler.transform(df_indexed)\n",
    "\n",
    "df_vectorized.select('id', 'word', 'features').show()\n",
    "\n",
    "spark.stop()\n"
   ]
  },
  {
   "cell_type": "code",
   "execution_count": null,
   "metadata": {},
   "outputs": [],
   "source": []
  }
 ],
 "metadata": {
  "kernelspec": {
   "display_name": "Python 3",
   "language": "python",
   "name": "python3"
  },
  "language_info": {
   "codemirror_mode": {
    "name": "ipython",
    "version": 3
   },
   "file_extension": ".py",
   "mimetype": "text/x-python",
   "name": "python",
   "nbconvert_exporter": "python",
   "pygments_lexer": "ipython3",
   "version": "3.7.3"
  }
 },
 "nbformat": 4,
 "nbformat_minor": 2
}
