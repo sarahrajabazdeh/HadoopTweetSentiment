{
 "cells": [
  {
   "cell_type": "code",
   "execution_count": 17,
   "id": "72dbd18d",
   "metadata": {},
   "outputs": [],
   "source": [
    "\n",
    "\n",
    "from pyspark.sql import SparkSession\n",
    "\n",
    "# Set the configuration parameter to \"LEGACY\"\n",
    "spark = SparkSession.builder \\\n",
    "    .appName(\"Sentiment Analysis\") \\\n",
    "    .config(\"spark.sql.legacy.timeParserPolicy\", \"LEGACY\") \\\n",
    "    .getOrCreate()\n"
   ]
  },
  {
   "cell_type": "code",
   "execution_count": 6,
   "id": "8bba6a60",
   "metadata": {},
   "outputs": [
    {
     "name": "stderr",
     "output_type": "stream",
     "text": [
      "Setting default log level to \"WARN\".\n",
      "To adjust logging level use sc.setLogLevel(newLevel). For SparkR, use setLogLevel(newLevel).\n",
      "23/07/25 05:52:49 WARN NativeCodeLoader: Unable to load native-hadoop library for your platform... using builtin-java classes where applicable\n"
     ]
    }
   ],
   "source": [
    "# spark = SparkSession.builder \\\n",
    "#     .appName(\"Sentiment Analysis\") \\\n",
    "#     .getOrCreate()\n"
   ]
  },
  {
   "cell_type": "code",
   "execution_count": 18,
   "id": "dbb2ca24",
   "metadata": {},
   "outputs": [
    {
     "name": "stderr",
     "output_type": "stream",
     "text": [
      "                                                                                \r"
     ]
    }
   ],
   "source": [
    "data_path = \"/home/sara/Documents/archive/training.1600000.processed.noemoticon.csv\"\n",
    "df = spark.read.csv(data_path, inferSchema=True, header=None)\n"
   ]
  },
  {
   "cell_type": "code",
   "execution_count": 19,
   "id": "fee604df",
   "metadata": {},
   "outputs": [],
   "source": [
    "df = df.withColumnRenamed(\"_c0\", \"sentiment\").withColumnRenamed(\"_c1\", \"id\").withColumnRenamed(\"_c2\", \"date\") \\\n",
    "    .withColumnRenamed(\"_c3\", \"query\").withColumnRenamed(\"_c4\", \"user\").withColumnRenamed(\"_c5\", \"tweet\")\n"
   ]
  },
  {
   "cell_type": "code",
   "execution_count": 20,
   "id": "d59eb009",
   "metadata": {},
   "outputs": [
    {
     "name": "stdout",
     "output_type": "stream",
     "text": [
      "root\n",
      " |-- sentiment: integer (nullable = true)\n",
      " |-- id: long (nullable = true)\n",
      " |-- date: string (nullable = true)\n",
      " |-- query: string (nullable = true)\n",
      " |-- user: string (nullable = true)\n",
      " |-- tweet: string (nullable = true)\n",
      "\n",
      "+---------+----------+--------------------+--------+---------------+--------------------+\n",
      "|sentiment|        id|                date|   query|           user|               tweet|\n",
      "+---------+----------+--------------------+--------+---------------+--------------------+\n",
      "|        0|1467810369|Mon Apr 06 22:19:...|NO_QUERY|_TheSpecialOne_|@switchfoot http:...|\n",
      "|        0|1467810672|Mon Apr 06 22:19:...|NO_QUERY|  scotthamilton|is upset that he ...|\n",
      "|        0|1467810917|Mon Apr 06 22:19:...|NO_QUERY|       mattycus|@Kenichan I dived...|\n",
      "|        0|1467811184|Mon Apr 06 22:19:...|NO_QUERY|        ElleCTF|my whole body fee...|\n",
      "|        0|1467811193|Mon Apr 06 22:19:...|NO_QUERY|         Karoli|@nationwideclass ...|\n",
      "+---------+----------+--------------------+--------+---------------+--------------------+\n",
      "only showing top 5 rows\n",
      "\n"
     ]
    }
   ],
   "source": [
    "df.printSchema()\n",
    "df.show(5)"
   ]
  },
  {
   "cell_type": "code",
   "execution_count": 21,
   "id": "de745bd4",
   "metadata": {},
   "outputs": [
    {
     "name": "stderr",
     "output_type": "stream",
     "text": [
      "\r\n",
      "[Stage 36:>                                                         (0 + 8) / 8]\r\n",
      "\r\n",
      "[Stage 36:=============================>                            (4 + 4) / 8]\r"
     ]
    },
    {
     "name": "stdout",
     "output_type": "stream",
     "text": [
      "+-----------------+\n",
      "|avg(tweet_length)|\n",
      "+-----------------+\n",
      "|     74.041759375|\n",
      "+-----------------+\n",
      "\n"
     ]
    },
    {
     "name": "stderr",
     "output_type": "stream",
     "text": [
      "\r\n",
      "                                                                                \r"
     ]
    }
   ],
   "source": [
    "from pyspark.sql.functions import length\n",
    "df.withColumn(\"tweet_length\", length(\"tweet\")).agg({\"tweet_length\": \"avg\"}).show()"
   ]
  },
  {
   "cell_type": "code",
   "execution_count": 7,
   "id": "f37c1f19",
   "metadata": {},
   "outputs": [],
   "source": [
    "# spark.stop()"
   ]
  },
  {
   "cell_type": "code",
   "execution_count": 22,
   "id": "13eed0cf",
   "metadata": {},
   "outputs": [
    {
     "name": "stdout",
     "output_type": "stream",
     "text": [
      "+---------+----------+--------------------+--------+---------------+--------------------+\n",
      "|sentiment|        id|                date|   query|           user|               tweet|\n",
      "+---------+----------+--------------------+--------+---------------+--------------------+\n",
      "|        0|1467810369|Mon Apr 06 22:19:...|NO_QUERY|_TheSpecialOne_|@switchfoot http:...|\n",
      "|        0|1467810672|Mon Apr 06 22:19:...|NO_QUERY|  scotthamilton|is upset that he ...|\n",
      "|        0|1467810917|Mon Apr 06 22:19:...|NO_QUERY|       mattycus|@Kenichan I dived...|\n",
      "|        0|1467811184|Mon Apr 06 22:19:...|NO_QUERY|        ElleCTF|my whole body fee...|\n",
      "|        0|1467811193|Mon Apr 06 22:19:...|NO_QUERY|         Karoli|@nationwideclass ...|\n",
      "+---------+----------+--------------------+--------+---------------+--------------------+\n",
      "only showing top 5 rows\n",
      "\n"
     ]
    }
   ],
   "source": [
    "df.show(5)"
   ]
  },
  {
   "cell_type": "code",
   "execution_count": 23,
   "id": "1f3e5b44",
   "metadata": {},
   "outputs": [
    {
     "name": "stderr",
     "output_type": "stream",
     "text": [
      "                                                                                \r"
     ]
    },
    {
     "name": "stdout",
     "output_type": "stream",
     "text": [
      "Average tweet length: 74.041759375\n"
     ]
    },
    {
     "name": "stderr",
     "output_type": "stream",
     "text": [
      "                                                                                \r"
     ]
    },
    {
     "name": "stdout",
     "output_type": "stream",
     "text": [
      "Positive tweets count: 800000\n",
      "Negative tweets count: 800000\n"
     ]
    },
    {
     "name": "stderr",
     "output_type": "stream",
     "text": [
      "[Stage 49:==================================================>       (7 + 1) / 8]\r"
     ]
    },
    {
     "name": "stdout",
     "output_type": "stream",
     "text": [
      "Correlation coefficient between sentiment and tweet length: -0.006329064433864042\n"
     ]
    },
    {
     "name": "stderr",
     "output_type": "stream",
     "text": [
      "\r\n",
      "                                                                                \r"
     ]
    }
   ],
   "source": [
    "# Import necessary libraries\n",
    "from pyspark.sql.functions import length\n",
    "\n",
    "# Calculate the average tweet length\n",
    "df = df.withColumn(\"tweet_length\", length(\"tweet\"))\n",
    "avg_tweet_length = df.agg({\"tweet_length\": \"avg\"}).collect()[0][0]\n",
    "print(\"Average tweet length:\", avg_tweet_length)\n",
    "\n",
    "# Count positive and negative sentiment tweets\n",
    "positive_tweets_count = df.filter(df[\"sentiment\"] == 4).count()\n",
    "negative_tweets_count = df.filter(df[\"sentiment\"] == 0).count()\n",
    "print(\"Positive tweets count:\", positive_tweets_count)\n",
    "print(\"Negative tweets count:\", negative_tweets_count)\n",
    "\n",
    "# Calculate correlation coefficient between sentiment and tweet length\n",
    "correlation = df.corr(\"sentiment\", \"tweet_length\")\n",
    "print(\"Correlation coefficient between sentiment and tweet length:\", correlation)\n"
   ]
  },
  {
   "cell_type": "code",
   "execution_count": 24,
   "id": "962f72ec",
   "metadata": {},
   "outputs": [
    {
     "name": "stderr",
     "output_type": "stream",
     "text": [
      "                                                                                \r"
     ]
    },
    {
     "data": {
      "image/png": "[encoded data removed]",
      "text/plain": [
       "<Figure size 576x432 with 1 Axes>"
      ]
     },
     "metadata": {
      "needs_background": "light"
     },
     "output_type": "display_data"
    }
   ],
   "source": [
    "import matplotlib.pyplot as plt\n",
    "import pandas as pd\n",
    "\n",
    "# Collect the data as a Pandas DataFrame for plotting\n",
    "tweet_lengths = df.select(\"tweet_length\").toPandas()\n",
    "\n",
    "# Plot the histogram\n",
    "plt.figure(figsize=(8, 6))\n",
    "plt.hist(tweet_lengths[\"tweet_length\"], bins=50, color='skyblue', edgecolor='black')\n",
    "plt.xlabel(\"Tweet Length\")\n",
    "plt.ylabel(\"Frequency\")\n",
    "plt.title(\"Histogram of Tweet Lengths\")\n",
    "plt.grid(True)\n",
    "plt.show()\n"
   ]
  },
  {
   "cell_type": "code",
   "execution_count": 25,
   "id": "2e7371a7",
   "metadata": {},
   "outputs": [
    {
     "name": "stderr",
     "output_type": "stream",
     "text": [
      "                                                                                \r"
     ]
    },
    {
     "name": "stdout",
     "output_type": "stream",
     "text": [
      "Average tweet length: 74.041759375\n"
     ]
    },
    {
     "name": "stderr",
     "output_type": "stream",
     "text": [
      "                                                                                \r"
     ]
    },
    {
     "name": "stdout",
     "output_type": "stream",
     "text": [
      "Positive tweets count: 800000\n",
      "Negative tweets count: 800000\n"
     ]
    },
    {
     "name": "stderr",
     "output_type": "stream",
     "text": [
      "                                                                                \r"
     ]
    },
    {
     "data": {
      "image/png": "[encoded data removed]",
      "text/plain": [
       "<Figure size 576x432 with 1 Axes>"
      ]
     },
     "metadata": {
      "needs_background": "light"
     },
     "output_type": "display_data"
    },
    {
     "name": "stderr",
     "output_type": "stream",
     "text": [
      "23/07/25 06:14:21 WARN WindowExec: No Partition Defined for Window operation! Moving all data to a single partition, this can cause serious performance degradation.\n",
      "23/07/25 06:14:21 WARN WindowExec: No Partition Defined for Window operation! Moving all data to a single partition, this can cause serious performance degradation.\n",
      "23/07/25 06:14:33 WARN WindowExec: No Partition Defined for Window operation! Moving all data to a single partition, this can cause serious performance degradation.\n",
      "23/07/25 06:14:33 WARN WindowExec: No Partition Defined for Window operation! Moving all data to a single partition, this can cause serious performance degradation.\n",
      "                                                                                \r"
     ]
    },
    {
     "data": {
      "image/png": "[encoded data removed]",
      "text/plain": [
       "<Figure size 720x432 with 1 Axes>"
      ]
     },
     "metadata": {
      "needs_background": "light"
     },
     "output_type": "display_data"
    }
   ],
   "source": [
    "import matplotlib.pyplot as plt\n",
    "from pyspark.sql.functions import to_date, avg\n",
    "from pyspark.sql import Window\n",
    "\n",
    "# Calculate the average tweet length\n",
    "df = df.withColumn(\"tweet_length\", length(\"tweet\"))\n",
    "avg_tweet_length = df.agg({\"tweet_length\": \"avg\"}).collect()[0][0]\n",
    "print(\"Average tweet length:\", avg_tweet_length)\n",
    "\n",
    "# Count positive and negative sentiment tweets\n",
    "positive_tweets_count = df.filter(df[\"sentiment\"] == 4).count()\n",
    "negative_tweets_count = df.filter(df[\"sentiment\"] == 0).count()\n",
    "print(\"Positive tweets count:\", positive_tweets_count)\n",
    "print(\"Negative tweets count:\", negative_tweets_count)\n",
    "\n",
    "# Sentiment Distribution: Visualize the distribution of positive and negative sentiment tweets\n",
    "sentiment_counts = df.groupBy(\"sentiment\").count().collect()\n",
    "sentiment_labels = [row[\"sentiment\"] for row in sentiment_counts]\n",
    "tweet_counts = [row[\"count\"] for row in sentiment_counts]\n",
    "\n",
    "plt.figure(figsize=(8, 6))\n",
    "plt.bar(sentiment_labels, tweet_counts, color=['green', 'red'])\n",
    "plt.xlabel(\"Sentiment\")\n",
    "plt.ylabel(\"Count\")\n",
    "plt.title(\"Sentiment Distribution\")\n",
    "plt.xticks(sentiment_labels, ['Positive', 'Negative'])\n",
    "plt.show()\n",
    "\n",
    "# Sentiment by Date: Analyze how sentiment changes over time\n",
    "df = df.withColumn(\"date\", to_date(\"date\", \"EEE MMM dd HH:mm:ss zzz yyyy\"))\n",
    "\n",
    "# Calculate average sentiment for each date\n",
    "window_spec = Window.orderBy(\"date\")\n",
    "df = df.withColumn(\"avg_sentiment\", avg(\"sentiment\").over(window_spec))\n",
    "\n",
    "# Group by date and calculate the average sentiment for each day\n",
    "sentiment_by_date = df.groupBy(\"date\").agg(avg(\"avg_sentiment\").alias(\"average_sentiment\")).collect()\n",
    "\n",
    "# Convert the results to Pandas DataFrame for visualization\n",
    "sentiment_by_date_df = pd.DataFrame(sentiment_by_date, columns=[\"date\", \"average_sentiment\"])\n",
    "\n",
    "plt.figure(figsize=(10, 6))\n",
    "plt.plot(sentiment_by_date_df[\"date\"], sentiment_by_date_df[\"average_sentiment\"], marker='o', linestyle='-')\n",
    "plt.xlabel(\"Date\")\n",
    "plt.ylabel(\"Average Sentiment\")\n",
    "plt.title(\"Sentiment by Date\")\n",
    "plt.grid(True)\n",
    "plt.show()\n"
   ]
  },
  {
   "cell_type": "code",
   "execution_count": 1,
   "id": "b1896577",
   "metadata": {},
   "outputs": [
    {
     "name": "stdout",
     "output_type": "stream",
     "text": [
      "1\n"
     ]
    }
   ],
   "source": [
    "print(1)"
   ]
  },
  {
   "cell_type": "code",
   "execution_count": null,
   "id": "08074def",
   "metadata": {},
   "outputs": [],
   "source": []
  }
 ],
 "metadata": {
  "kernelspec": {
   "display_name": "Python 3",
   "language": "python",
   "name": "python3"
  },
  "language_info": {
   "codemirror_mode": {
    "name": "ipython",
    "version": 3
   },
   "file_extension": ".py",
   "mimetype": "text/x-python",
   "name": "python",
   "nbconvert_exporter": "python",
   "pygments_lexer": "ipython3",
   "version": "3.7.3"
  }
 },
 "nbformat": 4,
 "nbformat_minor": 5
}
