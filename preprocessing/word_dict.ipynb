{
 "cells": [
  {
   "cell_type": "code",
   "execution_count": 8,
   "metadata": {},
   "outputs": [],
   "source": [
    "import sys"
   ]
  },
  {
   "cell_type": "code",
   "execution_count": 9,
   "metadata": {},
   "outputs": [],
   "source": [
    "# fetch from local path otherwise fetch from the remote path (if remote kernel is being used)\n",
    "try: \n",
    "    sys.path.append('../../scripts')\n",
    "    import database\n",
    "    import utils\n",
    "    import spark\n",
    "except:\n",
    "    try:\n",
    "        sys.path.append('./scripts')\n",
    "        import database\n",
    "        import utils\n",
    "        import spark\n",
    "    except:\n",
    "        raise RuntimeError('Failed to import from both local and remote paths. Program terminated.')"
   ]
  },
  {
   "cell_type": "code",
   "execution_count": 10,
   "metadata": {},
   "outputs": [],
   "source": [
    "spark = spark.setup_spark_session(app_name='Dictionary')"
   ]
  },
  {
   "cell_type": "code",
   "execution_count": 11,
   "metadata": {},
   "outputs": [],
   "source": [
    "db, mongo = database.setup_database()"
   ]
  },
  {
   "cell_type": "code",
   "execution_count": 12,
   "metadata": {},
   "outputs": [],
   "source": [
    "from pyspark.sql.types import StructType, StructField, StringType, IntegerType\n",
    "# Define the schema\n",
    "schema = StructType([\n",
    "    StructField('words', StringType(), True),\n",
    "    StructField('count', IntegerType() , True),\n",
    "])"
   ]
  },
  {
   "cell_type": "code",
   "execution_count": 13,
   "metadata": {},
   "outputs": [],
   "source": [
    "# Read the CSV file without header \n",
    "df = spark.read.csv('hdfs://localhost:54310/user/datascience/data/dict/part-*',sep=\"\\t\", header=False, schema=schema)"
   ]
  },
  {
   "cell_type": "code",
   "execution_count": 17,
   "metadata": {},
   "outputs": [
    {
     "data": {
      "text/html": [
       "<div>\n",
       "<style scoped>\n",
       "    .dataframe tbody tr th:only-of-type {\n",
       "        vertical-align: middle;\n",
       "    }\n",
       "\n",
       "    .dataframe tbody tr th {\n",
       "        vertical-align: top;\n",
       "    }\n",
       "\n",
       "    .dataframe thead th {\n",
       "        text-align: right;\n",
       "    }\n",
       "</style>\n",
       "<table border=\"1\" class=\"dataframe\">\n",
       "  <thead>\n",
       "    <tr style=\"text-align: right;\">\n",
       "      <th></th>\n",
       "      <th>words</th>\n",
       "      <th>count</th>\n",
       "    </tr>\n",
       "  </thead>\n",
       "  <tbody>\n",
       "    <tr>\n",
       "      <th>0</th>\n",
       "      <td>a</td>\n",
       "      <td>4</td>\n",
       "    </tr>\n",
       "    <tr>\n",
       "      <th>1</th>\n",
       "      <td>aa</td>\n",
       "      <td>190</td>\n",
       "    </tr>\n",
       "    <tr>\n",
       "      <th>2</th>\n",
       "      <td>aaa</td>\n",
       "      <td>99</td>\n",
       "    </tr>\n",
       "    <tr>\n",
       "      <th>3</th>\n",
       "      <td>aaaa</td>\n",
       "      <td>47</td>\n",
       "    </tr>\n",
       "    <tr>\n",
       "      <th>4</th>\n",
       "      <td>aaaaa</td>\n",
       "      <td>28</td>\n",
       "    </tr>\n",
       "    <tr>\n",
       "      <th>...</th>\n",
       "      <td>...</td>\n",
       "      <td>...</td>\n",
       "    </tr>\n",
       "    <tr>\n",
       "      <th>195</th>\n",
       "      <td>aaaaaainnnn</td>\n",
       "      <td>1</td>\n",
       "    </tr>\n",
       "    <tr>\n",
       "      <th>196</th>\n",
       "      <td>aaaaaak</td>\n",
       "      <td>1</td>\n",
       "    </tr>\n",
       "    <tr>\n",
       "      <th>197</th>\n",
       "      <td>aaaaaakkkh</td>\n",
       "      <td>1</td>\n",
       "    </tr>\n",
       "    <tr>\n",
       "      <th>198</th>\n",
       "      <td>aaaaaalcohol</td>\n",
       "      <td>3</td>\n",
       "    </tr>\n",
       "    <tr>\n",
       "      <th>199</th>\n",
       "      <td>aaaaaall</td>\n",
       "      <td>3</td>\n",
       "    </tr>\n",
       "  </tbody>\n",
       "</table>\n",
       "<p>200 rows × 2 columns</p>\n",
       "</div>"
      ],
      "text/plain": [
       "            words  count\n",
       "0               a      4\n",
       "1              aa    190\n",
       "2             aaa     99\n",
       "3            aaaa     47\n",
       "4           aaaaa     28\n",
       "..            ...    ...\n",
       "195   aaaaaainnnn      1\n",
       "196       aaaaaak      1\n",
       "197    aaaaaakkkh      1\n",
       "198  aaaaaalcohol      3\n",
       "199      aaaaaall      3\n",
       "\n",
       "[200 rows x 2 columns]"
      ]
     },
     "execution_count": 17,
     "metadata": {},
     "output_type": "execute_result"
    }
   ],
   "source": [
    "df.limit(200).toPandas()"
   ]
  },
  {
   "cell_type": "code",
   "execution_count": 18,
   "metadata": {},
   "outputs": [],
   "source": [
    "collection_name = \"dictionary\"\n",
    "\n",
    "# Drop the existing collection if it exists\n",
    "if collection_name in db.list_collection_names():\n",
    "    db[collection_name].drop()"
   ]
  },
  {
   "cell_type": "code",
   "execution_count": 19,
   "metadata": {},
   "outputs": [
    {
     "name": "stdout",
     "output_type": "stream",
     "text": [
      "[{'words': 'a', 'count': 4}, {'words': 'aa', 'count': 190}, {'words': 'aaa', 'count': 99}]\n"
     ]
    }
   ],
   "source": [
    "# Convert PySpark DataFrame to a list of dictionary where each dictionary represents a row in the DataFrame\n",
    "# and the keys of the dictionary represent the column names\n",
    "data = df.toPandas().to_dict(orient='records')\n",
    "\n",
    "# print first 10 records to check the format\n",
    "print(data[:3])"
   ]
  },
  {
   "cell_type": "code",
   "execution_count": 20,
   "metadata": {},
   "outputs": [
    {
     "data": {
      "text/plain": [
       "<pymongo.results.InsertManyResult at 0x7f4478c80908>"
      ]
     },
     "execution_count": 20,
     "metadata": {},
     "output_type": "execute_result"
    }
   ],
   "source": [
    "# Insert the dictionary into the collection named \"dictionary\"\n",
    "db[collection_name].insert_many(data)"
   ]
  },
  {
   "cell_type": "code",
   "execution_count": 22,
   "metadata": {},
   "outputs": [
    {
     "name": "stdout",
     "output_type": "stream",
     "text": [
      "{'_id': ObjectId('665c97684ed88d5156de4f95'), 'words': 'a', 'count': 4}\n",
      "{'_id': ObjectId('665c97684ed88d5156de4f96'), 'words': 'aa', 'count': 190}\n",
      "{'_id': ObjectId('665c97684ed88d5156de4f97'), 'words': 'aaa', 'count': 99}\n"
     ]
    }
   ],
   "source": [
    "# Check whether the data has been inserted into the collection\n",
    "records =  db[collection_name].find().limit(3)\n",
    "for record in db[collection_name].find().limit(3):\n",
    "    print(record)"
   ]
  },
  {
   "cell_type": "code",
   "execution_count": 23,
   "metadata": {},
   "outputs": [],
   "source": [
    "# Stop the spark session\n",
    "spark.stop()\n",
    "\n",
    "# Close the database connection\n",
    "mongo.close()"
   ]
  }
 ],
 "metadata": {
  "kernelspec": {
   "display_name": "Python 3",
   "language": "python",
   "name": "python3"
  },
  "language_info": {
   "codemirror_mode": {
    "name": "ipython",
    "version": 3
   },
   "file_extension": ".py",
   "mimetype": "text/x-python",
   "name": "python",
   "nbconvert_exporter": "python",
   "pygments_lexer": "ipython3",
   "version": "3.7.3"
  }
 },
 "nbformat": 4,
 "nbformat_minor": 2
}
