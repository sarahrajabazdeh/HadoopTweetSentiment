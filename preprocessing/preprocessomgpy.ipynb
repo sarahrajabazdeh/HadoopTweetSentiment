{
 "cells": [
  {
   "cell_type": "code",
   "execution_count": 23,
   "metadata": {},
   "outputs": [],
   "source": [
    "import sys\n",
    "from pyspark.sql import SparkSession\n",
    "from pyspark.sql.types import StructType, StructField, StringType, IntegerType\n",
    "from pyspark.sql.functions import regexp_replace, lower, col, udf\n",
    "from pyspark.ml.feature import StopWordsRemover, Tokenizer\n",
    "from pyspark.ml import Pipeline\n",
    "from pyspark.sql.functions import concat_ws\n"
   ]
  },
  {
   "cell_type": "code",
   "execution_count": null,
   "metadata": {},
   "outputs": [],
   "source": []
  },
  {
   "cell_type": "code",
   "execution_count": 24,
   "metadata": {},
   "outputs": [],
   "source": [
    "# fetch from local path otherwise fetch from the remote path (if remote kernel is being used)\n",
    "try: \n",
    "    sys.path.append('../../scripts')\n",
    "    import database\n",
    "    import utils\n",
    "    import spark\n",
    "except:\n",
    "    try:\n",
    "        sys.path.append('./scripts')\n",
    "        import database\n",
    "        import utils\n",
    "        import spark\n",
    "    except:\n",
    "        raise RuntimeError('Failed to import from both local and remote paths. Program terminated.')\n"
   ]
  },
  {
   "cell_type": "code",
   "execution_count": 25,
   "metadata": {},
   "outputs": [],
   "source": [
    "spark = spark.setup_spark_session(app_name='Preprocessingpy')"
   ]
  },
  {
   "cell_type": "code",
   "execution_count": 21,
   "metadata": {},
   "outputs": [
    {
     "data": {
      "text/plain": [
       "DataFrame[target: int, text: string, tokens: array<string>, filtered_tokens: array<string>, preprocessed_text: string]"
      ]
     },
     "execution_count": 21,
     "metadata": {},
     "output_type": "execute_result"
    }
   ],
   "source": [
    "# Define preprocessing pipeline\n",
    "def preprocess_data(input_path, output_path):\n",
    "    # Define schema\n",
    "    schema = StructType([\n",
    "        StructField('target', IntegerType(), True),\n",
    "        StructField('text', StringType(), True),\n",
    "    ])\n",
    "    \n",
    "    # Read data\n",
    "    df = spark.read.csv(input_path, header=False, schema=schema, sep=\"\\t\")\n",
    "    df = df.na.drop()\n",
    "    \n",
    "    # Convert text to lowercase\n",
    "    df = df.withColumn('text', lower(col('text')))\n",
    "    \n",
    "    # Remove special characters, URLs, and mentions\n",
    "    df = df.withColumn('text', regexp_replace(col('text'), 'http\\S+|www.\\S+|@\\S+', ''))\n",
    "    \n",
    "    # Tokenize text\n",
    "    tokenizer = Tokenizer(inputCol='text', outputCol='tokens')\n",
    "    \n",
    "    # Remove stop words\n",
    "    remover = StopWordsRemover(inputCol='tokens', outputCol='filtered_tokens')\n",
    "    \n",
    "    # Define preprocessing pipeline\n",
    "    pipeline = Pipeline(stages=[tokenizer, remover])\n",
    "    \n",
    "    # Fit pipeline\n",
    "    pipeline_model = pipeline.fit(df)\n",
    "    \n",
    "    # Transform data\n",
    "    df_preprocessed = pipeline_model.transform(df)\n",
    "    \n",
    "    # Convert array of tokens to single string\n",
    "    array_to_string_udf = udf(lambda x: ' '.join(x), StringType())\n",
    "    df_preprocessed = df_preprocessed.withColumn('preprocessed_text', array_to_string_udf('filtered_tokens'))\n",
    "    \n",
    "    # Save preprocessed data\n",
    "    df_preprocessed.select('preprocessed_text').write.csv(output_path, mode='overwrite', header=False, sep=\"\\t\")\n",
    "    \n",
    "    return df_preprocessed\n",
    "\n"
   ]
  },
  {
   "cell_type": "code",
   "execution_count": 22,
   "metadata": {},
   "outputs": [],
   "source": [
    "# Preprocess the data\n",
    "input_path = 'hdfs://localhost:54310/user/datascience/data/processed/tweets_subset'\n",
    "output_path = 'hdfs://localhost:54310/user/datascience/data/preprocessed/tweets_preprocess'\n",
    "preprocess_data(input_path, output_path)\n",
    "\n",
    "# Stop Spark session\n",
    "spark.stop()"
   ]
  },
  {
   "cell_type": "code",
   "execution_count": null,
   "metadata": {},
   "outputs": [],
   "source": []
  }
 ],
 "metadata": {
  "kernelspec": {
   "display_name": "Python 3",
   "language": "python",
   "name": "python3"
  },
  "language_info": {
   "codemirror_mode": {
    "name": "ipython",
    "version": 3
   },
   "file_extension": ".py",
   "mimetype": "text/x-python",
   "name": "python",
   "nbconvert_exporter": "python",
   "pygments_lexer": "ipython3",
   "version": "3.7.3"
  }
 },
 "nbformat": 4,
 "nbformat_minor": 2
}
