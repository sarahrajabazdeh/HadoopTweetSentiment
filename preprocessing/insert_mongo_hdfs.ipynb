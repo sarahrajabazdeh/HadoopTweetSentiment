{
 "cells": [
  {
   "cell_type": "code",
   "execution_count": 1,
   "metadata": {},
   "outputs": [],
   "source": [
    "import sys\n",
    "import matplotlib.pyplot as plt"
   ]
  },
  {
   "cell_type": "code",
   "execution_count": 2,
   "metadata": {},
   "outputs": [],
   "source": [
    "# fetch from local path otherwise fetch from the remote path (if remote kernel is being used)\n",
    "try: \n",
    "    sys.path.append('../../scripts')\n",
    "    import spark\n",
    "    import database\n",
    "except:\n",
    "    try:\n",
    "        sys.path.append('./scripts')\n",
    "        import spark\n",
    "        import database\n",
    "    except:\n",
    "        raise RuntimeError('Failed to import from both local and remote paths. Program terminated.')"
   ]
  },
  {
   "cell_type": "code",
   "execution_count": 3,
   "metadata": {},
   "outputs": [],
   "source": [
    "\n",
    "spark = spark.setup_spark_session(app_name='Insert Data into MongoDB')"
   ]
  },
  {
   "cell_type": "code",
   "execution_count": 4,
   "metadata": {},
   "outputs": [],
   "source": [
    "db, mongo = database.setup_database()"
   ]
  },
  {
   "cell_type": "code",
   "execution_count": 5,
   "metadata": {},
   "outputs": [],
   "source": [
    "from pyspark.sql.types import StructType, StructField, StringType, IntegerType\n",
    "# Define the schema\n",
    "schema = StructType([\n",
    "    StructField('target', IntegerType(), True),\n",
    "    StructField('text', StringType(), True),\n",
    "])"
   ]
  },
  {
   "cell_type": "code",
   "execution_count": 6,
   "metadata": {},
   "outputs": [],
   "source": [
    "df = spark.read.csv(\"hdfs://localhost:54310/user/datascience/data/processed/tweets_preprocessed\", header=False, schema=schema, sep=\"\\t\")"
   ]
  },
  {
   "cell_type": "markdown",
   "metadata": {},
   "source": [
    "Check the null / empty values "
   ]
  },
  {
   "cell_type": "code",
   "execution_count": 7,
   "metadata": {},
   "outputs": [
    {
     "name": "stdout",
     "output_type": "stream",
     "text": [
      "Number of null values: 7962\n",
      "Number of empty values: 0\n"
     ]
    }
   ],
   "source": [
    "null_values = df.filter(df['text'].isNull()).count()\n",
    "empty_values = df.filter(df['text'] == '').count()\n",
    "\n",
    "print(f'Number of null values: {null_values}')\n",
    "print(f'Number of empty values: {empty_values}')"
   ]
  },
  {
   "cell_type": "code",
   "execution_count": 8,
   "metadata": {},
   "outputs": [
    {
     "name": "stdout",
     "output_type": "stream",
     "text": [
      "7962 tweets were removed out of 1600000.\n"
     ]
    }
   ],
   "source": [
    "# Remove the null values\n",
    "filtered_df = df[df['text'].isNotNull()]\n",
    "\n",
    "rows = df.count()\n",
    "filtered_rows = filtered_df.count()\n",
    "print(f'{rows - filtered_rows} tweets were removed out of {rows}.')"
   ]
  },
  {
   "cell_type": "code",
   "execution_count": 9,
   "metadata": {},
   "outputs": [
    {
     "data": {
      "text/html": [
       "<div>\n",
       "<style scoped>\n",
       "    .dataframe tbody tr th:only-of-type {\n",
       "        vertical-align: middle;\n",
       "    }\n",
       "\n",
       "    .dataframe tbody tr th {\n",
       "        vertical-align: top;\n",
       "    }\n",
       "\n",
       "    .dataframe thead th {\n",
       "        text-align: right;\n",
       "    }\n",
       "</style>\n",
       "<table border=\"1\" class=\"dataframe\">\n",
       "  <thead>\n",
       "    <tr style=\"text-align: right;\">\n",
       "      <th></th>\n",
       "      <th>target</th>\n",
       "      <th>count</th>\n",
       "    </tr>\n",
       "  </thead>\n",
       "  <tbody>\n",
       "    <tr>\n",
       "      <th>0</th>\n",
       "      <td>1</td>\n",
       "      <td>795701</td>\n",
       "    </tr>\n",
       "    <tr>\n",
       "      <th>1</th>\n",
       "      <td>0</td>\n",
       "      <td>796337</td>\n",
       "    </tr>\n",
       "  </tbody>\n",
       "</table>\n",
       "</div>"
      ],
      "text/plain": [
       "   target   count\n",
       "0       1  795701\n",
       "1       0  796337"
      ]
     },
     "execution_count": 9,
     "metadata": {},
     "output_type": "execute_result"
    }
   ],
   "source": [
    "# check the values of the unique labels\n",
    "filtered_df.groupBy('target').count().toPandas()"
   ]
  },
  {
   "cell_type": "markdown",
   "metadata": {},
   "source": [
    "Since class 0 is more than class 1 so perform under sampling in class 0"
   ]
  },
  {
   "cell_type": "code",
   "execution_count": 10,
   "metadata": {},
   "outputs": [],
   "source": [
    "# under sampling in class 0\n",
    "class_0 = filtered_df[filtered_df['target'] == 0]\n",
    "class_1 = filtered_df[filtered_df['target'] == 1]\n",
    "ratio =  class_1.count() / class_0.count()\n",
    "resampled_class_0 = class_0.sample(withReplacement=False, fraction=ratio, seed=1)\n",
    "resampled_df = class_1.union(resampled_class_0)"
   ]
  },
  {
   "cell_type": "code",
   "execution_count": 11,
   "metadata": {},
   "outputs": [
    {
     "data": {
      "text/html": [
       "<div>\n",
       "<style scoped>\n",
       "    .dataframe tbody tr th:only-of-type {\n",
       "        vertical-align: middle;\n",
       "    }\n",
       "\n",
       "    .dataframe tbody tr th {\n",
       "        vertical-align: top;\n",
       "    }\n",
       "\n",
       "    .dataframe thead th {\n",
       "        text-align: right;\n",
       "    }\n",
       "</style>\n",
       "<table border=\"1\" class=\"dataframe\">\n",
       "  <thead>\n",
       "    <tr style=\"text-align: right;\">\n",
       "      <th></th>\n",
       "      <th>target</th>\n",
       "      <th>count</th>\n",
       "    </tr>\n",
       "  </thead>\n",
       "  <tbody>\n",
       "    <tr>\n",
       "      <th>0</th>\n",
       "      <td>1</td>\n",
       "      <td>795701</td>\n",
       "    </tr>\n",
       "    <tr>\n",
       "      <th>1</th>\n",
       "      <td>0</td>\n",
       "      <td>795721</td>\n",
       "    </tr>\n",
       "  </tbody>\n",
       "</table>\n",
       "</div>"
      ],
      "text/plain": [
       "   target   count\n",
       "0       1  795701\n",
       "1       0  795721"
      ]
     },
     "execution_count": 11,
     "metadata": {},
     "output_type": "execute_result"
    }
   ],
   "source": [
    "# check the values that if the classes are balanced or not\n",
    "resampled_df.groupBy('target').count().toPandas()"
   ]
  },
  {
   "cell_type": "markdown",
   "metadata": {},
   "source": [
    "Since the above difference between two classes is quite small, so we can consider this dataset to be balanced"
   ]
  },
  {
   "cell_type": "code",
   "execution_count": 12,
   "metadata": {},
   "outputs": [
    {
     "data": {
      "image/png": "[encoded data removed]",
      "text/plain": [
       "<Figure size 432x288 with 1 Axes>"
      ]
     },
     "metadata": {
      "needs_background": "light"
     },
     "output_type": "display_data"
    }
   ],
   "source": [
    "target_df = resampled_df.groupBy('target').count().toPandas()\n",
    "\n",
    "plt.bar(target_df['target'], target_df['count'], color=['blue'])\n",
    "plt.xticks([0, 1])\n",
    "plt.xlabel('Target')\n",
    "plt.ylabel('Count')\n",
    "plt.title('Target Distribution')\n",
    "plt.show()"
   ]
  },
  {
   "cell_type": "code",
   "execution_count": 13,
   "metadata": {},
   "outputs": [
    {
     "name": "stdout",
     "output_type": "stream",
     "text": [
      "+------+---------------------------------------------+\n",
      "|target|text                                         |\n",
      "+------+---------------------------------------------+\n",
      "|1     |love u guy r best                            |\n",
      "|1     |im meet one besti tonight cant wait girl talk|\n",
      "+------+---------------------------------------------+\n",
      "\n"
     ]
    }
   ],
   "source": [
    "resampled_df.limit(2).show(truncate=False)"
   ]
  },
  {
   "cell_type": "code",
   "execution_count": 14,
   "metadata": {},
   "outputs": [],
   "source": [
    "# randomly subssample the data to work on the manageable size in the sandbox environment\n",
    "number_of_samples = 100000\n",
    "total_samples = resampled_df.count()\n",
    "ratio = number_of_samples / total_samples\n",
    "mongodb_sample_df = resampled_df.sample(withReplacement=False, fraction=ratio, seed=1)"
   ]
  },
  {
   "cell_type": "code",
   "execution_count": 15,
   "metadata": {},
   "outputs": [
    {
     "name": "stdout",
     "output_type": "stream",
     "text": [
      "Number of rows in the mongodb sample: 100745\n"
     ]
    }
   ],
   "source": [
    "# Rows in the sample\n",
    "print(f'Number of rows in the mongodb sample: {mongodb_sample_df.count()}')"
   ]
  },
  {
   "cell_type": "code",
   "execution_count": 16,
   "metadata": {},
   "outputs": [],
   "source": [
    "collection_name = \"tweets\"\n",
    "\n",
    "# Drop the existing collection if it exists\n",
    "if collection_name in db.list_collection_names():\n",
    "    db[collection_name].drop()"
   ]
  },
  {
   "cell_type": "code",
   "execution_count": 17,
   "metadata": {},
   "outputs": [
    {
     "name": "stdout",
     "output_type": "stream",
     "text": [
      "{'target': 1, 'text': 'thank twitter add sunisa got meet hin show dc area sweetheart'}\n",
      "{'target': 1, 'text': 'ad tweeti new iphon'}\n"
     ]
    }
   ],
   "source": [
    "# Convert PySpark DataFrame to a list of dictionary where each dictionary represents a row in the DataFrame\n",
    "# and the keys of the dictionary represent the column names\n",
    "data = mongodb_sample_df.toPandas().to_dict(orient='records')\n",
    "\n",
    "# print first 3 records to check the format\n",
    "for i in range(2):\n",
    "    print(data[i])"
   ]
  },
  {
   "cell_type": "code",
   "execution_count": 18,
   "metadata": {},
   "outputs": [
    {
     "data": {
      "text/plain": [
       "<pymongo.results.InsertManyResult at 0x7faa1dac92c8>"
      ]
     },
     "execution_count": 18,
     "metadata": {},
     "output_type": "execute_result"
    }
   ],
   "source": [
    "# Insert the dictionary into the collection named \"tweets\"\n",
    "db[collection_name].insert_many(data)"
   ]
  },
  {
   "cell_type": "code",
   "execution_count": 20,
   "metadata": {},
   "outputs": [
    {
     "name": "stdout",
     "output_type": "stream",
     "text": [
      "{'_id': ObjectId('6623a0c4d8a4ade911185691'), 'target': 1, 'text': 'thank twitter add sunisa got meet hin show dc area sweetheart'}\n",
      "{'_id': ObjectId('6623a0c4d8a4ade911185692'), 'target': 1, 'text': 'ad tweeti new iphon'}\n"
     ]
    }
   ],
   "source": [
    "# Check whether the data has been inserted into the collection\n",
    "records =  db[collection_name].find().limit(2)\n",
    "for record in records:\n",
    "    print(record)"
   ]
  },
  {
   "cell_type": "code",
   "execution_count": 21,
   "metadata": {},
   "outputs": [],
   "source": [
    "# Save the final preprocessed data to HDFS\n",
    "resampled_df.write.csv(path='hdfs://localhost:54310/user/datascience/data/processed/final_tweets_preprocessed', mode='overwrite', header=False, sep=\"\\t\")"
   ]
  },
  {
   "cell_type": "code",
   "execution_count": 22,
   "metadata": {},
   "outputs": [],
   "source": [
    "# Stop the spark session\n",
    "spark.stop()\n",
    "\n",
    "# Close the database connection\n",
    "mongo.close()"
   ]
  }
 ],
 "metadata": {
  "kernelspec": {
   "display_name": "Python 3",
   "language": "python",
   "name": "python3"
  },
  "language_info": {
   "codemirror_mode": {
    "name": "ipython",
    "version": 3
   },
   "file_extension": ".py",
   "mimetype": "text/x-python",
   "name": "python",
   "nbconvert_exporter": "python",
   "pygments_lexer": "ipython3",
   "version": "3.7.3"
  }
 },
 "nbformat": 4,
 "nbformat_minor": 2
}
