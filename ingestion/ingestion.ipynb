{
 "cells": [
  {
   "cell_type": "code",
   "execution_count": null,
   "metadata": {},
   "outputs": [],
   "source": [
    "import findspark\n",
    "\n",
    "# Locate the Spark installation (add pyspark to sys.path, see https://github.com/minrk/findspark#readme)\n",
    "findspark.init()\n",
    "\n",
    "from pyspark.sql import SparkSession\n",
    "\n",
    "# Create or get the Spark session (singleton) and the underlying Spark context\n",
    "spark = SparkSession.builder\\\n",
    "        .appName(\"Ingestion\")\\\n",
    "        .getOrCreate()"
   ]
  },
  {
   "cell_type": "code",
   "execution_count": null,
   "metadata": {},
   "outputs": [],
   "source": [
    "from pyspark.sql.types import StructType, StructField, StringType, IntegerType\n",
    "# Define the schema\n",
    "schema = StructType([\n",
    "    StructField('target', IntegerType(), True),\n",
    "    StructField('ids', StringType(), True),\n",
    "    StructField('date', StringType(), True),\n",
    "    StructField('flag', StringType(),True),\n",
    "    StructField('user', StringType(), True),\n",
    "    StructField('text', StringType(), True),\n",
    "])"
   ]
  },
  {
   "cell_type": "code",
   "execution_count": null,
   "metadata": {},
   "outputs": [],
   "source": [
    "# Read the JSON files from a directory\n",
    "df = spark.read.json('hdfs://localhost:54310/user/kaggledata/tweets.csv', schema=schema)\n",
    "df.limit(5).toPandas()"
   ]
  },
  {
   "cell_type": "code",
   "execution_count": null,
   "metadata": {},
   "outputs": [],
   "source": [
    "df = df.drop('ids', 'date', 'flag', 'user')"
   ]
  },
  {
   "cell_type": "code",
   "execution_count": null,
   "metadata": {},
   "outputs": [],
   "source": [
    "# Save the data in the HDFS\n",
    "df.write.csv(path='hdfs://localhost:54310/user/reviews/data/processed/tweets_subset', mode='overwrite', header=False, sep=\"\\t\")"
   ]
  },
  {
   "cell_type": "code",
   "execution_count": null,
   "metadata": {},
   "outputs": [],
   "source": [
    "spark.stop()"
   ]
  }
 ],
 "metadata": {
  "language_info": {
   "name": "python"
  }
 },
 "nbformat": 4,
 "nbformat_minor": 2
}
